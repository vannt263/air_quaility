{
 "cells": [
  {
   "cell_type": "code",
   "execution_count": 70,
   "metadata": {},
   "outputs": [],
   "source": [
    "import re\n",
    "import os\n",
    "import numpy as np\n",
    "import pandas as pd\n",
    "from datetime import datetime"
   ]
  },
  {
   "cell_type": "code",
   "execution_count": 4,
   "metadata": {},
   "outputs": [],
   "source": [
    "files = os.listdir(\"../data/tramdo\")"
   ]
  },
  {
   "cell_type": "code",
   "execution_count": 6,
   "metadata": {},
   "outputs": [],
   "source": [
    "required_columns = ['pm25', 'pm10', 'o3', 'no2', 'so2', 'co', 'aqi']"
   ]
  },
  {
   "cell_type": "code",
   "execution_count": 10,
   "metadata": {},
   "outputs": [],
   "source": [
    "def classify_aqi(aqi):\n",
    "    if 0 <= aqi <= 50:\n",
    "        return 'Tốt'\n",
    "    elif 51 <= aqi <= 100:\n",
    "        return 'Vừa Phải'\n",
    "    elif 101 <= aqi <= 150:\n",
    "        return 'Không tốt cho người nhạy cảm'\n",
    "    elif 151 <= aqi <= 200:\n",
    "        return 'Không tốt'\n",
    "    elif 201 <= aqi <= 300:\n",
    "        return 'Rất không tốt'\n",
    "    else:\n",
    "        return 'Nguy hiểm'"
   ]
  },
  {
   "cell_type": "code",
   "execution_count": 14,
   "metadata": {},
   "outputs": [
    {
     "data": {
      "text/plain": [
       "'Ba Đình - Hà Nội.csv'"
      ]
     },
     "execution_count": 14,
     "metadata": {},
     "output_type": "execute_result"
    }
   ],
   "source": [
    "files[0]"
   ]
  },
  {
   "cell_type": "code",
   "execution_count": 75,
   "metadata": {},
   "outputs": [
    {
     "name": "stdout",
     "output_type": "stream",
     "text": [
      "Ba Đình - Hà Nội.csv\n",
      "Biên Hòa - Đồng Nai.csv\n",
      "Bà Rịa - Bà Rịa Vũng Tàu.csv\n",
      "Bình Chánh - Hồ Chí Minh.csv\n",
      "Bảo Thắng - Lào Cai.csv\n",
      "Bắc Ninh - Bắc Ninh.csv\n",
      "Bắc Từ Liêm - Hà Nội.csv\n",
      "Bến Lức - Long An.csv\n",
      "Cao Lộc - Lạng Sơn.csv\n",
      "Chí Linh - Hải Dương.csv\n",
      "Cầu Giấy - Hà Nội.csv\n",
      "Cẩm Giàng - Hải Dương.csv\n",
      "Cẩm Phả - Quảng Ninh.csv\n",
      "Duyên Hải - Trà Vinh.csv\n",
      "Gia Bình - Bắc Ninh.csv\n"
     ]
    },
    {
     "name": "stderr",
     "output_type": "stream",
     "text": [
      "C:\\Users\\vannt\\AppData\\Local\\Temp\\ipykernel_18460\\3659751835.py:8: UserWarning: Parsing dates in %d/%m/%Y format when dayfirst=False (the default) was specified. Pass `dayfirst=True` or specify a format to silence this warning.\n",
      "  data['date'] = pd.to_datetime(data['date'])\n",
      "C:\\Users\\vannt\\AppData\\Local\\Temp\\ipykernel_18460\\3659751835.py:8: UserWarning: Parsing dates in %d/%m/%Y format when dayfirst=False (the default) was specified. Pass `dayfirst=True` or specify a format to silence this warning.\n",
      "  data['date'] = pd.to_datetime(data['date'])\n",
      "C:\\Users\\vannt\\AppData\\Local\\Temp\\ipykernel_18460\\3659751835.py:8: UserWarning: Parsing dates in %d/%m/%Y format when dayfirst=False (the default) was specified. Pass `dayfirst=True` or specify a format to silence this warning.\n",
      "  data['date'] = pd.to_datetime(data['date'])\n"
     ]
    },
    {
     "name": "stdout",
     "output_type": "stream",
     "text": [
      "Hoàn Kiếm - Hà Nội.csv\n",
      "Hoàng Mai - Hà Nội.csv\n",
      "Hàm Yên - Tuyên Quang.csv\n",
      "Hòa Thành - Tây Ninh.csv\n",
      "Hạ Long - Quảng Ninh.csv\n",
      "Hải Châu - Đà Nẵng.csv\n",
      "Hải Hà - Quảng Ninh.csv\n",
      "Hữu Lũng - Lạng Sơn.csv\n",
      "Kinh Môn - Hải Dương.csv\n",
      "Kiến An - Hải Phòng.csv\n",
      "Long Biên - Hà Nội.csv\n",
      "Long Hồ - Vĩnh Long.csv\n",
      "Láng Hạ - Hà Nội.csv\n",
      "Lương Tài - Bắc Ninh.csv\n",
      "Mỹ Đình - Hà Nội.csv\n",
      "Nam Từ Liêm - Hà Nội.csv\n",
      "Ngô Quyền - Hải Phòng.csv\n",
      "Nha Trang - Khánh Hòa.csv\n",
      "Nho Quan - Ninh Bình.csv\n",
      "Nhà Bè - Hồ Chí Minh.csv\n",
      "Ninh Kiều - Cần Thơ.csv\n",
      "Phú Mỹ - Bà Rịa Vũng Tàu.csv\n",
      "Phú Ninh - Quảng Nam.csv\n",
      "Phúc Thọ - Hà Nội.csv\n"
     ]
    },
    {
     "name": "stderr",
     "output_type": "stream",
     "text": [
      "C:\\Users\\vannt\\AppData\\Local\\Temp\\ipykernel_18460\\3659751835.py:8: UserWarning: Parsing dates in %d/%m/%Y format when dayfirst=False (the default) was specified. Pass `dayfirst=True` or specify a format to silence this warning.\n",
      "  data['date'] = pd.to_datetime(data['date'])\n",
      "C:\\Users\\vannt\\AppData\\Local\\Temp\\ipykernel_18460\\3659751835.py:8: UserWarning: Parsing dates in %d/%m/%Y format when dayfirst=False (the default) was specified. Pass `dayfirst=True` or specify a format to silence this warning.\n",
      "  data['date'] = pd.to_datetime(data['date'])\n",
      "C:\\Users\\vannt\\AppData\\Local\\Temp\\ipykernel_18460\\3659751835.py:8: UserWarning: Parsing dates in %d/%m/%Y format when dayfirst=False (the default) was specified. Pass `dayfirst=True` or specify a format to silence this warning.\n",
      "  data['date'] = pd.to_datetime(data['date'])\n",
      "C:\\Users\\vannt\\AppData\\Local\\Temp\\ipykernel_18460\\3659751835.py:8: UserWarning: Parsing dates in %d/%m/%Y format when dayfirst=False (the default) was specified. Pass `dayfirst=True` or specify a format to silence this warning.\n",
      "  data['date'] = pd.to_datetime(data['date'])\n"
     ]
    },
    {
     "ename": "TypeError",
     "evalue": "strptime() argument 1 must be str, not float",
     "output_type": "error",
     "traceback": [
      "\u001b[1;31m---------------------------------------------------------------------------\u001b[0m",
      "\u001b[1;31mValueError\u001b[0m                                Traceback (most recent call last)",
      "\u001b[1;32md:\\study\\data_visualize\\thuchanh\\finaltern\\air_quality\\code\\classification.ipynb Cell 6\u001b[0m line \u001b[0;36m8\n\u001b[0;32m      <a href='vscode-notebook-cell:/d%3A/study/data_visualize/thuchanh/finaltern/air_quality/code/classification.ipynb#X24sZmlsZQ%3D%3D?line=6'>7</a>\u001b[0m \u001b[39mtry\u001b[39;00m:\n\u001b[1;32m----> <a href='vscode-notebook-cell:/d%3A/study/data_visualize/thuchanh/finaltern/air_quality/code/classification.ipynb#X24sZmlsZQ%3D%3D?line=7'>8</a>\u001b[0m     data[\u001b[39m'\u001b[39m\u001b[39mdate\u001b[39m\u001b[39m'\u001b[39m] \u001b[39m=\u001b[39m pd\u001b[39m.\u001b[39;49mto_datetime(data[\u001b[39m'\u001b[39;49m\u001b[39mdate\u001b[39;49m\u001b[39m'\u001b[39;49m])\n\u001b[0;32m     <a href='vscode-notebook-cell:/d%3A/study/data_visualize/thuchanh/finaltern/air_quality/code/classification.ipynb#X24sZmlsZQ%3D%3D?line=9'>10</a>\u001b[0m \u001b[39mexcept\u001b[39;00m \u001b[39mValueError\u001b[39;00m:\n",
      "File \u001b[1;32mc:\\Users\\vannt\\AppData\\Local\\Programs\\Python\\Python311\\Lib\\site-packages\\pandas\\core\\tools\\datetimes.py:1050\u001b[0m, in \u001b[0;36mto_datetime\u001b[1;34m(arg, errors, dayfirst, yearfirst, utc, format, exact, unit, infer_datetime_format, origin, cache)\u001b[0m\n\u001b[0;32m   1049\u001b[0m \u001b[39melse\u001b[39;00m:\n\u001b[1;32m-> 1050\u001b[0m     values \u001b[39m=\u001b[39m convert_listlike(arg\u001b[39m.\u001b[39;49m_values, \u001b[39mformat\u001b[39;49m)\n\u001b[0;32m   1051\u001b[0m     result \u001b[39m=\u001b[39m arg\u001b[39m.\u001b[39m_constructor(values, index\u001b[39m=\u001b[39marg\u001b[39m.\u001b[39mindex, name\u001b[39m=\u001b[39marg\u001b[39m.\u001b[39mname)\n",
      "File \u001b[1;32mc:\\Users\\vannt\\AppData\\Local\\Programs\\Python\\Python311\\Lib\\site-packages\\pandas\\core\\tools\\datetimes.py:453\u001b[0m, in \u001b[0;36m_convert_listlike_datetimes\u001b[1;34m(arg, format, name, utc, unit, errors, dayfirst, yearfirst, exact)\u001b[0m\n\u001b[0;32m    452\u001b[0m \u001b[39mif\u001b[39;00m \u001b[39mformat\u001b[39m \u001b[39mis\u001b[39;00m \u001b[39mnot\u001b[39;00m \u001b[39mNone\u001b[39;00m \u001b[39mand\u001b[39;00m \u001b[39mformat\u001b[39m \u001b[39m!=\u001b[39m \u001b[39m\"\u001b[39m\u001b[39mmixed\u001b[39m\u001b[39m\"\u001b[39m:\n\u001b[1;32m--> 453\u001b[0m     \u001b[39mreturn\u001b[39;00m _array_strptime_with_fallback(arg, name, utc, \u001b[39mformat\u001b[39;49m, exact, errors)\n\u001b[0;32m    455\u001b[0m result, tz_parsed \u001b[39m=\u001b[39m objects_to_datetime64ns(\n\u001b[0;32m    456\u001b[0m     arg,\n\u001b[0;32m    457\u001b[0m     dayfirst\u001b[39m=\u001b[39mdayfirst,\n\u001b[1;32m   (...)\u001b[0m\n\u001b[0;32m    461\u001b[0m     allow_object\u001b[39m=\u001b[39m\u001b[39mTrue\u001b[39;00m,\n\u001b[0;32m    462\u001b[0m )\n",
      "File \u001b[1;32mc:\\Users\\vannt\\AppData\\Local\\Programs\\Python\\Python311\\Lib\\site-packages\\pandas\\core\\tools\\datetimes.py:484\u001b[0m, in \u001b[0;36m_array_strptime_with_fallback\u001b[1;34m(arg, name, utc, fmt, exact, errors)\u001b[0m\n\u001b[0;32m    481\u001b[0m \u001b[39m\u001b[39m\u001b[39m\"\"\"\u001b[39;00m\n\u001b[0;32m    482\u001b[0m \u001b[39mCall array_strptime, with fallback behavior depending on 'errors'.\u001b[39;00m\n\u001b[0;32m    483\u001b[0m \u001b[39m\"\"\"\u001b[39;00m\n\u001b[1;32m--> 484\u001b[0m result, timezones \u001b[39m=\u001b[39m array_strptime(arg, fmt, exact\u001b[39m=\u001b[39;49mexact, errors\u001b[39m=\u001b[39;49merrors, utc\u001b[39m=\u001b[39;49mutc)\n\u001b[0;32m    485\u001b[0m \u001b[39mif\u001b[39;00m \u001b[39many\u001b[39m(tz \u001b[39mis\u001b[39;00m \u001b[39mnot\u001b[39;00m \u001b[39mNone\u001b[39;00m \u001b[39mfor\u001b[39;00m tz \u001b[39min\u001b[39;00m timezones):\n",
      "File \u001b[1;32mc:\\Users\\vannt\\AppData\\Local\\Programs\\Python\\Python311\\Lib\\site-packages\\pandas\\_libs\\tslibs\\strptime.pyx:530\u001b[0m, in \u001b[0;36mpandas._libs.tslibs.strptime.array_strptime\u001b[1;34m()\u001b[0m\n",
      "File \u001b[1;32mc:\\Users\\vannt\\AppData\\Local\\Programs\\Python\\Python311\\Lib\\site-packages\\pandas\\_libs\\tslibs\\strptime.pyx:351\u001b[0m, in \u001b[0;36mpandas._libs.tslibs.strptime.array_strptime\u001b[1;34m()\u001b[0m\n",
      "\u001b[1;31mValueError\u001b[0m: time data \"13/11/2022\" doesn't match format \"%m/%d/%Y\", at position 7. You might want to try:\n    - passing `format` if your strings have a consistent format;\n    - passing `format='ISO8601'` if your strings are all ISO8601 but not necessarily in exactly the same format;\n    - passing `format='mixed'`, and the format will be inferred for each element individually. You might want to use `dayfirst` alongside this.",
      "\nDuring handling of the above exception, another exception occurred:\n",
      "\u001b[1;31mTypeError\u001b[0m                                 Traceback (most recent call last)",
      "\u001b[1;32md:\\study\\data_visualize\\thuchanh\\finaltern\\air_quality\\code\\classification.ipynb Cell 6\u001b[0m line \u001b[0;36m1\n\u001b[0;32m      <a href='vscode-notebook-cell:/d%3A/study/data_visualize/thuchanh/finaltern/air_quality/code/classification.ipynb#X24sZmlsZQ%3D%3D?line=7'>8</a>\u001b[0m     data[\u001b[39m'\u001b[39m\u001b[39mdate\u001b[39m\u001b[39m'\u001b[39m] \u001b[39m=\u001b[39m pd\u001b[39m.\u001b[39mto_datetime(data[\u001b[39m'\u001b[39m\u001b[39mdate\u001b[39m\u001b[39m'\u001b[39m])\n\u001b[0;32m     <a href='vscode-notebook-cell:/d%3A/study/data_visualize/thuchanh/finaltern/air_quality/code/classification.ipynb#X24sZmlsZQ%3D%3D?line=9'>10</a>\u001b[0m \u001b[39mexcept\u001b[39;00m \u001b[39mValueError\u001b[39;00m:\n\u001b[1;32m---> <a href='vscode-notebook-cell:/d%3A/study/data_visualize/thuchanh/finaltern/air_quality/code/classification.ipynb#X24sZmlsZQ%3D%3D?line=10'>11</a>\u001b[0m     objects \u001b[39m=\u001b[39m [datetime\u001b[39m.\u001b[39;49mstrptime(date, \u001b[39m\"\u001b[39;49m\u001b[39m%d\u001b[39;49;00m\u001b[39m/\u001b[39;49m\u001b[39m%\u001b[39;49m\u001b[39mm/\u001b[39;49m\u001b[39m%\u001b[39;49m\u001b[39mY\u001b[39;49m\u001b[39m\"\u001b[39;49m) \u001b[39mfor\u001b[39;49;00m date \u001b[39min\u001b[39;49;00m data[\u001b[39m'\u001b[39;49m\u001b[39mdate\u001b[39;49m\u001b[39m'\u001b[39;49m]]\n\u001b[0;32m     <a href='vscode-notebook-cell:/d%3A/study/data_visualize/thuchanh/finaltern/air_quality/code/classification.ipynb#X24sZmlsZQ%3D%3D?line=11'>12</a>\u001b[0m     \u001b[39m# Chuyển đổi sang định dạng mới \"dd/mm/yyyy\"\u001b[39;00m\n\u001b[0;32m     <a href='vscode-notebook-cell:/d%3A/study/data_visualize/thuchanh/finaltern/air_quality/code/classification.ipynb#X24sZmlsZQ%3D%3D?line=12'>13</a>\u001b[0m     data[\u001b[39m\"\u001b[39m\u001b[39mdate\u001b[39m\u001b[39m\"\u001b[39m] \u001b[39m=\u001b[39m [date\u001b[39m.\u001b[39mstrftime(\u001b[39m\"\u001b[39m\u001b[39m%d\u001b[39;00m\u001b[39m/\u001b[39m\u001b[39m%\u001b[39m\u001b[39mm/\u001b[39m\u001b[39m%\u001b[39m\u001b[39mY\u001b[39m\u001b[39m\"\u001b[39m) \u001b[39mfor\u001b[39;00m date \u001b[39min\u001b[39;00m objects]\n",
      "\u001b[1;32md:\\study\\data_visualize\\thuchanh\\finaltern\\air_quality\\code\\classification.ipynb Cell 6\u001b[0m line \u001b[0;36m1\n\u001b[0;32m      <a href='vscode-notebook-cell:/d%3A/study/data_visualize/thuchanh/finaltern/air_quality/code/classification.ipynb#X24sZmlsZQ%3D%3D?line=7'>8</a>\u001b[0m     data[\u001b[39m'\u001b[39m\u001b[39mdate\u001b[39m\u001b[39m'\u001b[39m] \u001b[39m=\u001b[39m pd\u001b[39m.\u001b[39mto_datetime(data[\u001b[39m'\u001b[39m\u001b[39mdate\u001b[39m\u001b[39m'\u001b[39m])\n\u001b[0;32m     <a href='vscode-notebook-cell:/d%3A/study/data_visualize/thuchanh/finaltern/air_quality/code/classification.ipynb#X24sZmlsZQ%3D%3D?line=9'>10</a>\u001b[0m \u001b[39mexcept\u001b[39;00m \u001b[39mValueError\u001b[39;00m:\n\u001b[1;32m---> <a href='vscode-notebook-cell:/d%3A/study/data_visualize/thuchanh/finaltern/air_quality/code/classification.ipynb#X24sZmlsZQ%3D%3D?line=10'>11</a>\u001b[0m     objects \u001b[39m=\u001b[39m [datetime\u001b[39m.\u001b[39;49mstrptime(date, \u001b[39m\"\u001b[39;49m\u001b[39m%d\u001b[39;49;00m\u001b[39m/\u001b[39;49m\u001b[39m%\u001b[39;49m\u001b[39mm/\u001b[39;49m\u001b[39m%\u001b[39;49m\u001b[39mY\u001b[39;49m\u001b[39m\"\u001b[39;49m) \u001b[39mfor\u001b[39;00m date \u001b[39min\u001b[39;00m data[\u001b[39m'\u001b[39m\u001b[39mdate\u001b[39m\u001b[39m'\u001b[39m]]\n\u001b[0;32m     <a href='vscode-notebook-cell:/d%3A/study/data_visualize/thuchanh/finaltern/air_quality/code/classification.ipynb#X24sZmlsZQ%3D%3D?line=11'>12</a>\u001b[0m     \u001b[39m# Chuyển đổi sang định dạng mới \"dd/mm/yyyy\"\u001b[39;00m\n\u001b[0;32m     <a href='vscode-notebook-cell:/d%3A/study/data_visualize/thuchanh/finaltern/air_quality/code/classification.ipynb#X24sZmlsZQ%3D%3D?line=12'>13</a>\u001b[0m     data[\u001b[39m\"\u001b[39m\u001b[39mdate\u001b[39m\u001b[39m\"\u001b[39m] \u001b[39m=\u001b[39m [date\u001b[39m.\u001b[39mstrftime(\u001b[39m\"\u001b[39m\u001b[39m%d\u001b[39;00m\u001b[39m/\u001b[39m\u001b[39m%\u001b[39m\u001b[39mm/\u001b[39m\u001b[39m%\u001b[39m\u001b[39mY\u001b[39m\u001b[39m\"\u001b[39m) \u001b[39mfor\u001b[39;00m date \u001b[39min\u001b[39;00m objects]\n",
      "\u001b[1;31mTypeError\u001b[0m: strptime() argument 1 must be str, not float"
     ]
    }
   ],
   "source": [
    "for file in files:\n",
    "    print(file)\n",
    "    # Đọc dữ liệu từ tệp CSV\n",
    "    file_path = f\"../data/tramdo/{file}\"\n",
    "    data = pd.read_csv(file_path)\n",
    "\n",
    "    try:\n",
    "        data['date'] = pd.to_datetime(data['date'])\n",
    "\n",
    "    except ValueError:\n",
    "        objects = [datetime.strptime(date, \"%d/%m/%Y\") for date in data['date']]\n",
    "        # Chuyển đổi sang định dạng mới \"dd/mm/yyyy\"\n",
    "        data[\"date\"] = [date.strftime(\"%d/%m/%Y\") for date in objects]\n",
    "        # Chuyển đổi cột 'date' sang định dạng datetime\n",
    "        data['date'] = pd.to_datetime(data['date'], format=\"%d/%m/%Y\")\n",
    "\n",
    "    # Reset lại index\n",
    "    data = data.reset_index(drop=True)\n",
    "\n",
    "    # Sửa tên cột\n",
    "    data = data.rename(columns=lambda x: x.strip())\n",
    "    data[data.columns[1:]] = data[data.columns[1:]].replace(r\"\\s+\", 0, regex=True) #ép kiểu cột sang int\n",
    "    data[data.columns[1:]] = round(data[data.columns[1:]].astype('double'), 2)\n",
    "\n",
    "    # Thêm cột mới nếu chưa xuất hiện\n",
    "    for column in required_columns:\n",
    "        if column not in data.columns:\n",
    "            data[column] = 0\n",
    "\n",
    "    # Thêm cột 'aqi' bằng cách lấy giá trị lớn nhất\n",
    "    data['aqi'] = data[required_columns].max(axis=1)\n",
    "    # Đảm bảo thứ tự các cột là 'pm25', 'pm10', 'o3', 'no2', 'so2', 'co', 'aqi'\n",
    "    data = data[['date', 'pm25', 'pm10', 'o3', 'no2', 'so2', 'co', 'aqi']]\n",
    "\n",
    "    # Áp dụng hàm phân loại AQI cho cột 'aqi'\n",
    "    data['mức độ ô nhiễm'] = data['aqi'].apply(classify_aqi)\n",
    "    \n",
    "    # Thêm cột 'địa điểm trạm đo' từ tên tệp\n",
    "    data.insert(0, \"địa điểm trạm đo\", file.split(\"-\")[0].strip())\n",
    "\n",
    "    # Lưu DataFrame đã cập nhật vào tệp CSV mới\n",
    "    data.to_csv(file_path, index=False)\n",
    "print(\"Okey!!!!!!!\")"
   ]
  }
 ],
 "metadata": {
  "kernelspec": {
   "display_name": "Python 3",
   "language": "python",
   "name": "python3"
  },
  "language_info": {
   "codemirror_mode": {
    "name": "ipython",
    "version": 3
   },
   "file_extension": ".py",
   "mimetype": "text/x-python",
   "name": "python",
   "nbconvert_exporter": "python",
   "pygments_lexer": "ipython3",
   "version": "3.11.5"
  }
 },
 "nbformat": 4,
 "nbformat_minor": 2
}
