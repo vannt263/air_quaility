{
 "cells": [
  {
   "cell_type": "code",
   "execution_count": 1,
   "metadata": {},
   "outputs": [],
   "source": [
    "import re\n",
    "import os\n",
    "import warnings\n",
    "import numpy as np\n",
    "import pandas as pd\n",
    "from datetime import datetime"
   ]
  },
  {
   "cell_type": "code",
   "execution_count": 2,
   "metadata": {},
   "outputs": [],
   "source": [
    "files = os.listdir(\"../data/tramdo\")"
   ]
  },
  {
   "cell_type": "code",
   "execution_count": 4,
   "metadata": {},
   "outputs": [],
   "source": [
    "required_columns = ['pm25', 'pm10', 'o3', 'no2', 'so2', 'co', 'aqi']"
   ]
  },
  {
   "cell_type": "code",
   "execution_count": 5,
   "metadata": {},
   "outputs": [],
   "source": [
    "def classify_aqi(aqi):\n",
    "    if 0 <= aqi <= 50:\n",
    "        return 'Tốt'\n",
    "    elif 51 <= aqi <= 100:\n",
    "        return 'Vừa Phải'\n",
    "    elif 101 <= aqi <= 150:\n",
    "        return 'Không tốt cho người nhạy cảm'\n",
    "    elif 151 <= aqi <= 200:\n",
    "        return 'Không tốt'\n",
    "    elif 201 <= aqi <= 300:\n",
    "        return 'Rất không tốt'\n",
    "    else:\n",
    "        return 'Nguy hiểm'"
   ]
  },
  {
   "cell_type": "code",
   "execution_count": 5,
   "metadata": {},
   "outputs": [
    {
     "data": {
      "text/plain": [
       "'Ba Đình - Hà Nội.csv'"
      ]
     },
     "execution_count": 5,
     "metadata": {},
     "output_type": "execute_result"
    }
   ],
   "source": [
    "files[0]"
   ]
  },
  {
   "cell_type": "code",
   "execution_count": 6,
   "metadata": {},
   "outputs": [
    {
     "name": "stdout",
     "output_type": "stream",
     "text": [
      "Okey!!!!!!!\n"
     ]
    }
   ],
   "source": [
    "warnings.filterwarnings(\"ignore\")\n",
    "for file in files:\n",
    "    # print(file)\n",
    "    # Đọc dữ liệu từ tệp CSV\n",
    "    file_path = f\"../data/tramdo/{file}\"\n",
    "    data = pd.read_csv(file_path)\n",
    "\n",
    "    try:\n",
    "        data['date'] = pd.to_datetime(data['date'])\n",
    "\n",
    "    except ValueError:\n",
    "        objects = [datetime.strptime(date, \"%d/%m/%Y\") for date in data['date']]\n",
    "        # Chuyển đổi sang định dạng mới \"dd/mm/yyyy\"\n",
    "        data[\"date\"] = [date.strftime(\"%d/%m/%Y\") for date in objects]\n",
    "        # Chuyển đổi cột 'date' sang định dạng datetime\n",
    "        data['date'] = pd.to_datetime(data['date'], format=\"%d/%m/%Y\")\n",
    "\n",
    "    # Reset lại index\n",
    "    data = data.reset_index(drop=True)\n",
    "\n",
    "    # Sửa tên cột\n",
    "    data = data.rename(columns=lambda x: x.strip())\n",
    "    data[data.columns[1:]] = data[data.columns[1:]].replace(r\"\\s+\", 0, regex=True) #ép kiểu cột sang int\n",
    "    data[data.columns[1:]] = round(data[data.columns[1:]].astype('double'), 2)\n",
    "\n",
    "    # Thêm cột mới nếu chưa xuất hiện\n",
    "    for column in required_columns:\n",
    "        if column not in data.columns:\n",
    "            data[column] = 0\n",
    "\n",
    "    # Thêm cột 'aqi' bằng cách lấy giá trị lớn nhất\n",
    "    data['aqi'] = data[required_columns].max(axis=1)\n",
    "    # Đảm bảo thứ tự các cột là 'pm25', 'pm10', 'o3', 'no2', 'so2', 'co', 'aqi'\n",
    "    data = data[['date', 'pm25', 'pm10', 'o3', 'no2', 'so2', 'co', 'aqi']]\n",
    "\n",
    "    # Áp dụng hàm phân loại AQI cho cột 'aqi'\n",
    "    data['mức độ ô nhiễm'] = data['aqi'].apply(classify_aqi)\n",
    "    \n",
    "    # Thêm cột 'địa điểm trạm đo' từ tên tệp\n",
    "    data.insert(0, \"địa điểm trạm đo\", file.split(\"-\")[0].strip())\n",
    "\n",
    "    # Lưu DataFrame đã cập nhật vào tệp CSV mới\n",
    "    data.to_csv(file_path, index=False)\n",
    "print(\"Okey!!!!!!!\")"
   ]
  }
 ],
 "metadata": {
  "kernelspec": {
   "display_name": "Python 3",
   "language": "python",
   "name": "python3"
  },
  "language_info": {
   "codemirror_mode": {
    "name": "ipython",
    "version": 3
   },
   "file_extension": ".py",
   "mimetype": "text/x-python",
   "name": "python",
   "nbconvert_exporter": "python",
   "pygments_lexer": "ipython3",
   "version": "3.11.5"
  }
 },
 "nbformat": 4,
 "nbformat_minor": 2
}
