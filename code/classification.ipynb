{
 "cells": [
  {
   "cell_type": "code",
   "execution_count": 23,
   "metadata": {},
   "outputs": [],
   "source": [
    "import re\n",
    "import os\n",
    "import warnings\n",
    "import numpy as np\n",
    "import pandas as pd\n",
    "from datetime import datetime"
   ]
  },
  {
   "cell_type": "code",
   "execution_count": 24,
   "metadata": {},
   "outputs": [],
   "source": [
    "files = os.listdir(\"../data/tramdo\")"
   ]
  },
  {
   "cell_type": "code",
   "execution_count": 25,
   "metadata": {},
   "outputs": [],
   "source": [
    "required_columns = ['pm25', 'pm10', 'o3', 'no2', 'so2', 'co', 'aqi']"
   ]
  },
  {
   "cell_type": "code",
   "execution_count": 26,
   "metadata": {},
   "outputs": [],
   "source": [
    "def classify_aqi(aqi):\n",
    "    if 0 <= aqi <= 50:\n",
    "        return 'Tốt'\n",
    "    elif 51 <= aqi <= 100:\n",
    "        return 'Vừa Phải'\n",
    "    elif 101 <= aqi <= 150:\n",
    "        return 'Không tốt cho người nhạy cảm'\n",
    "    elif 151 <= aqi <= 200:\n",
    "        return 'Không tốt'\n",
    "    elif 201 <= aqi <= 300:\n",
    "        return 'Rất không tốt'\n",
    "    else:\n",
    "        return 'Nguy hiểm'"
   ]
  },
  {
   "cell_type": "code",
   "execution_count": 27,
   "metadata": {},
   "outputs": [
    {
     "data": {
      "text/plain": [
       "'Ba Đình - Hà Nội.csv'"
      ]
     },
     "execution_count": 27,
     "metadata": {},
     "output_type": "execute_result"
    }
   ],
   "source": [
    "files[0]"
   ]
  },
  {
   "cell_type": "code",
   "execution_count": 28,
   "metadata": {},
   "outputs": [
    {
     "ename": "TypeError",
     "evalue": "Cannot cast DatetimeArray to dtype float64",
     "output_type": "error",
     "traceback": [
      "\u001b[1;31m---------------------------------------------------------------------------\u001b[0m",
      "\u001b[1;31mTypeError\u001b[0m                                 Traceback (most recent call last)",
      "\u001b[1;32md:\\study\\data_visualize\\thuchanh\\finaltern\\air_quality\\code\\classification.ipynb Cell 6\u001b[0m line \u001b[0;36m2\n\u001b[0;32m     <a href='vscode-notebook-cell:/d%3A/study/data_visualize/thuchanh/finaltern/air_quality/code/classification.ipynb#X44sZmlsZQ%3D%3D?line=21'>22</a>\u001b[0m data \u001b[39m=\u001b[39m data\u001b[39m.\u001b[39mrename(columns\u001b[39m=\u001b[39m\u001b[39mlambda\u001b[39;00m x: x\u001b[39m.\u001b[39mstrip())\n\u001b[0;32m     <a href='vscode-notebook-cell:/d%3A/study/data_visualize/thuchanh/finaltern/air_quality/code/classification.ipynb#X44sZmlsZQ%3D%3D?line=22'>23</a>\u001b[0m data[data\u001b[39m.\u001b[39mcolumns[\u001b[39m1\u001b[39m:]] \u001b[39m=\u001b[39m data[data\u001b[39m.\u001b[39mcolumns[\u001b[39m1\u001b[39m:]]\u001b[39m.\u001b[39mreplace(\u001b[39mr\u001b[39m\u001b[39m\"\u001b[39m\u001b[39m\\\u001b[39m\u001b[39ms+\u001b[39m\u001b[39m\"\u001b[39m, \u001b[39m0\u001b[39m, regex\u001b[39m=\u001b[39m\u001b[39mTrue\u001b[39;00m) \u001b[39m#ép kiểu cột sang int\u001b[39;00m\n\u001b[1;32m---> <a href='vscode-notebook-cell:/d%3A/study/data_visualize/thuchanh/finaltern/air_quality/code/classification.ipynb#X44sZmlsZQ%3D%3D?line=23'>24</a>\u001b[0m data[data\u001b[39m.\u001b[39mcolumns[\u001b[39m1\u001b[39m:]] \u001b[39m=\u001b[39m \u001b[39mround\u001b[39m(data[data\u001b[39m.\u001b[39;49mcolumns[\u001b[39m1\u001b[39;49m:]]\u001b[39m.\u001b[39;49mastype(\u001b[39m'\u001b[39;49m\u001b[39mdouble\u001b[39;49m\u001b[39m'\u001b[39;49m), \u001b[39m2\u001b[39m)\n\u001b[0;32m     <a href='vscode-notebook-cell:/d%3A/study/data_visualize/thuchanh/finaltern/air_quality/code/classification.ipynb#X44sZmlsZQ%3D%3D?line=25'>26</a>\u001b[0m \u001b[39m# Thêm cột mới nếu chưa xuất hiện\u001b[39;00m\n\u001b[0;32m     <a href='vscode-notebook-cell:/d%3A/study/data_visualize/thuchanh/finaltern/air_quality/code/classification.ipynb#X44sZmlsZQ%3D%3D?line=26'>27</a>\u001b[0m \u001b[39mfor\u001b[39;00m column \u001b[39min\u001b[39;00m required_columns:\n",
      "File \u001b[1;32mc:\\Users\\vannt\\AppData\\Local\\Programs\\Python\\Python311\\Lib\\site-packages\\pandas\\core\\generic.py:6324\u001b[0m, in \u001b[0;36mNDFrame.astype\u001b[1;34m(self, dtype, copy, errors)\u001b[0m\n\u001b[0;32m   6317\u001b[0m     results \u001b[39m=\u001b[39m [\n\u001b[0;32m   6318\u001b[0m         \u001b[39mself\u001b[39m\u001b[39m.\u001b[39miloc[:, i]\u001b[39m.\u001b[39mastype(dtype, copy\u001b[39m=\u001b[39mcopy)\n\u001b[0;32m   6319\u001b[0m         \u001b[39mfor\u001b[39;00m i \u001b[39min\u001b[39;00m \u001b[39mrange\u001b[39m(\u001b[39mlen\u001b[39m(\u001b[39mself\u001b[39m\u001b[39m.\u001b[39mcolumns))\n\u001b[0;32m   6320\u001b[0m     ]\n\u001b[0;32m   6322\u001b[0m \u001b[39melse\u001b[39;00m:\n\u001b[0;32m   6323\u001b[0m     \u001b[39m# else, only a single dtype is given\u001b[39;00m\n\u001b[1;32m-> 6324\u001b[0m     new_data \u001b[39m=\u001b[39m \u001b[39mself\u001b[39;49m\u001b[39m.\u001b[39;49m_mgr\u001b[39m.\u001b[39;49mastype(dtype\u001b[39m=\u001b[39;49mdtype, copy\u001b[39m=\u001b[39;49mcopy, errors\u001b[39m=\u001b[39;49merrors)\n\u001b[0;32m   6325\u001b[0m     \u001b[39mreturn\u001b[39;00m \u001b[39mself\u001b[39m\u001b[39m.\u001b[39m_constructor(new_data)\u001b[39m.\u001b[39m__finalize__(\u001b[39mself\u001b[39m, method\u001b[39m=\u001b[39m\u001b[39m\"\u001b[39m\u001b[39mastype\u001b[39m\u001b[39m\"\u001b[39m)\n\u001b[0;32m   6327\u001b[0m \u001b[39m# GH 33113: handle empty frame or series\u001b[39;00m\n",
      "File \u001b[1;32mc:\\Users\\vannt\\AppData\\Local\\Programs\\Python\\Python311\\Lib\\site-packages\\pandas\\core\\internals\\managers.py:451\u001b[0m, in \u001b[0;36mBaseBlockManager.astype\u001b[1;34m(self, dtype, copy, errors)\u001b[0m\n\u001b[0;32m    448\u001b[0m \u001b[39melif\u001b[39;00m using_copy_on_write():\n\u001b[0;32m    449\u001b[0m     copy \u001b[39m=\u001b[39m \u001b[39mFalse\u001b[39;00m\n\u001b[1;32m--> 451\u001b[0m \u001b[39mreturn\u001b[39;00m \u001b[39mself\u001b[39;49m\u001b[39m.\u001b[39;49mapply(\n\u001b[0;32m    452\u001b[0m     \u001b[39m\"\u001b[39;49m\u001b[39mastype\u001b[39;49m\u001b[39m\"\u001b[39;49m,\n\u001b[0;32m    453\u001b[0m     dtype\u001b[39m=\u001b[39;49mdtype,\n\u001b[0;32m    454\u001b[0m     copy\u001b[39m=\u001b[39;49mcopy,\n\u001b[0;32m    455\u001b[0m     errors\u001b[39m=\u001b[39;49merrors,\n\u001b[0;32m    456\u001b[0m     using_cow\u001b[39m=\u001b[39;49musing_copy_on_write(),\n\u001b[0;32m    457\u001b[0m )\n",
      "File \u001b[1;32mc:\\Users\\vannt\\AppData\\Local\\Programs\\Python\\Python311\\Lib\\site-packages\\pandas\\core\\internals\\managers.py:352\u001b[0m, in \u001b[0;36mBaseBlockManager.apply\u001b[1;34m(self, f, align_keys, **kwargs)\u001b[0m\n\u001b[0;32m    350\u001b[0m         applied \u001b[39m=\u001b[39m b\u001b[39m.\u001b[39mapply(f, \u001b[39m*\u001b[39m\u001b[39m*\u001b[39mkwargs)\n\u001b[0;32m    351\u001b[0m     \u001b[39melse\u001b[39;00m:\n\u001b[1;32m--> 352\u001b[0m         applied \u001b[39m=\u001b[39m \u001b[39mgetattr\u001b[39;49m(b, f)(\u001b[39m*\u001b[39;49m\u001b[39m*\u001b[39;49mkwargs)\n\u001b[0;32m    353\u001b[0m     result_blocks \u001b[39m=\u001b[39m extend_blocks(applied, result_blocks)\n\u001b[0;32m    355\u001b[0m out \u001b[39m=\u001b[39m \u001b[39mtype\u001b[39m(\u001b[39mself\u001b[39m)\u001b[39m.\u001b[39mfrom_blocks(result_blocks, \u001b[39mself\u001b[39m\u001b[39m.\u001b[39maxes)\n",
      "File \u001b[1;32mc:\\Users\\vannt\\AppData\\Local\\Programs\\Python\\Python311\\Lib\\site-packages\\pandas\\core\\internals\\blocks.py:511\u001b[0m, in \u001b[0;36mBlock.astype\u001b[1;34m(self, dtype, copy, errors, using_cow)\u001b[0m\n\u001b[0;32m    491\u001b[0m \u001b[39m\u001b[39m\u001b[39m\"\"\"\u001b[39;00m\n\u001b[0;32m    492\u001b[0m \u001b[39mCoerce to the new dtype.\u001b[39;00m\n\u001b[0;32m    493\u001b[0m \n\u001b[1;32m   (...)\u001b[0m\n\u001b[0;32m    507\u001b[0m \u001b[39mBlock\u001b[39;00m\n\u001b[0;32m    508\u001b[0m \u001b[39m\"\"\"\u001b[39;00m\n\u001b[0;32m    509\u001b[0m values \u001b[39m=\u001b[39m \u001b[39mself\u001b[39m\u001b[39m.\u001b[39mvalues\n\u001b[1;32m--> 511\u001b[0m new_values \u001b[39m=\u001b[39m astype_array_safe(values, dtype, copy\u001b[39m=\u001b[39;49mcopy, errors\u001b[39m=\u001b[39;49merrors)\n\u001b[0;32m    513\u001b[0m new_values \u001b[39m=\u001b[39m maybe_coerce_values(new_values)\n\u001b[0;32m    515\u001b[0m refs \u001b[39m=\u001b[39m \u001b[39mNone\u001b[39;00m\n",
      "File \u001b[1;32mc:\\Users\\vannt\\AppData\\Local\\Programs\\Python\\Python311\\Lib\\site-packages\\pandas\\core\\dtypes\\astype.py:242\u001b[0m, in \u001b[0;36mastype_array_safe\u001b[1;34m(values, dtype, copy, errors)\u001b[0m\n\u001b[0;32m    239\u001b[0m     dtype \u001b[39m=\u001b[39m dtype\u001b[39m.\u001b[39mnumpy_dtype\n\u001b[0;32m    241\u001b[0m \u001b[39mtry\u001b[39;00m:\n\u001b[1;32m--> 242\u001b[0m     new_values \u001b[39m=\u001b[39m astype_array(values, dtype, copy\u001b[39m=\u001b[39;49mcopy)\n\u001b[0;32m    243\u001b[0m \u001b[39mexcept\u001b[39;00m (\u001b[39mValueError\u001b[39;00m, \u001b[39mTypeError\u001b[39;00m):\n\u001b[0;32m    244\u001b[0m     \u001b[39m# e.g. _astype_nansafe can fail on object-dtype of strings\u001b[39;00m\n\u001b[0;32m    245\u001b[0m     \u001b[39m#  trying to convert to float\u001b[39;00m\n\u001b[0;32m    246\u001b[0m     \u001b[39mif\u001b[39;00m errors \u001b[39m==\u001b[39m \u001b[39m\"\u001b[39m\u001b[39mignore\u001b[39m\u001b[39m\"\u001b[39m:\n",
      "File \u001b[1;32mc:\\Users\\vannt\\AppData\\Local\\Programs\\Python\\Python311\\Lib\\site-packages\\pandas\\core\\dtypes\\astype.py:184\u001b[0m, in \u001b[0;36mastype_array\u001b[1;34m(values, dtype, copy)\u001b[0m\n\u001b[0;32m    180\u001b[0m     \u001b[39mreturn\u001b[39;00m values\n\u001b[0;32m    182\u001b[0m \u001b[39mif\u001b[39;00m \u001b[39mnot\u001b[39;00m \u001b[39misinstance\u001b[39m(values, np\u001b[39m.\u001b[39mndarray):\n\u001b[0;32m    183\u001b[0m     \u001b[39m# i.e. ExtensionArray\u001b[39;00m\n\u001b[1;32m--> 184\u001b[0m     values \u001b[39m=\u001b[39m values\u001b[39m.\u001b[39;49mastype(dtype, copy\u001b[39m=\u001b[39;49mcopy)\n\u001b[0;32m    186\u001b[0m \u001b[39melse\u001b[39;00m:\n\u001b[0;32m    187\u001b[0m     values \u001b[39m=\u001b[39m _astype_nansafe(values, dtype, copy\u001b[39m=\u001b[39mcopy)\n",
      "File \u001b[1;32mc:\\Users\\vannt\\AppData\\Local\\Programs\\Python\\Python311\\Lib\\site-packages\\pandas\\core\\arrays\\datetimes.py:701\u001b[0m, in \u001b[0;36mDatetimeArray.astype\u001b[1;34m(self, dtype, copy)\u001b[0m\n\u001b[0;32m    699\u001b[0m \u001b[39melif\u001b[39;00m is_period_dtype(dtype):\n\u001b[0;32m    700\u001b[0m     \u001b[39mreturn\u001b[39;00m \u001b[39mself\u001b[39m\u001b[39m.\u001b[39mto_period(freq\u001b[39m=\u001b[39mdtype\u001b[39m.\u001b[39mfreq)\n\u001b[1;32m--> 701\u001b[0m \u001b[39mreturn\u001b[39;00m dtl\u001b[39m.\u001b[39;49mDatetimeLikeArrayMixin\u001b[39m.\u001b[39;49mastype(\u001b[39mself\u001b[39;49m, dtype, copy)\n",
      "File \u001b[1;32mc:\\Users\\vannt\\AppData\\Local\\Programs\\Python\\Python311\\Lib\\site-packages\\pandas\\core\\arrays\\datetimelike.py:487\u001b[0m, in \u001b[0;36mDatetimeLikeArrayMixin.astype\u001b[1;34m(self, dtype, copy)\u001b[0m\n\u001b[0;32m    480\u001b[0m \u001b[39melif\u001b[39;00m (\n\u001b[0;32m    481\u001b[0m     is_datetime_or_timedelta_dtype(dtype)\n\u001b[0;32m    482\u001b[0m     \u001b[39mand\u001b[39;00m \u001b[39mnot\u001b[39;00m is_dtype_equal(\u001b[39mself\u001b[39m\u001b[39m.\u001b[39mdtype, dtype)\n\u001b[0;32m    483\u001b[0m ) \u001b[39mor\u001b[39;00m is_float_dtype(dtype):\n\u001b[0;32m    484\u001b[0m     \u001b[39m# disallow conversion between datetime/timedelta,\u001b[39;00m\n\u001b[0;32m    485\u001b[0m     \u001b[39m# and conversions for any datetimelike to float\u001b[39;00m\n\u001b[0;32m    486\u001b[0m     msg \u001b[39m=\u001b[39m \u001b[39mf\u001b[39m\u001b[39m\"\u001b[39m\u001b[39mCannot cast \u001b[39m\u001b[39m{\u001b[39;00m\u001b[39mtype\u001b[39m(\u001b[39mself\u001b[39m)\u001b[39m.\u001b[39m\u001b[39m__name__\u001b[39m\u001b[39m}\u001b[39;00m\u001b[39m to dtype \u001b[39m\u001b[39m{\u001b[39;00mdtype\u001b[39m}\u001b[39;00m\u001b[39m\"\u001b[39m\n\u001b[1;32m--> 487\u001b[0m     \u001b[39mraise\u001b[39;00m \u001b[39mTypeError\u001b[39;00m(msg)\n\u001b[0;32m    488\u001b[0m \u001b[39melse\u001b[39;00m:\n\u001b[0;32m    489\u001b[0m     \u001b[39mreturn\u001b[39;00m np\u001b[39m.\u001b[39masarray(\u001b[39mself\u001b[39m, dtype\u001b[39m=\u001b[39mdtype)\n",
      "\u001b[1;31mTypeError\u001b[0m: Cannot cast DatetimeArray to dtype float64"
     ]
    }
   ],
   "source": [
    "warnings.filterwarnings(\"ignore\")\n",
    "for file in files:\n",
    "    # print(file)\n",
    "    # Đọc dữ liệu từ tệp CSV\n",
    "    file_path = f\"../data/tramdo/{file}\"\n",
    "    data = pd.read_csv(file_path)\n",
    "\n",
    "    try:\n",
    "        data['date'] = pd.to_datetime(data['date'])\n",
    "\n",
    "    except ValueError:\n",
    "        objects = [datetime.strptime(date, \"%d/%m/%Y\") for date in data['date']]\n",
    "        # Chuyển đổi sang định dạng mới \"dd/mm/yyyy\"\n",
    "        data[\"date\"] = [date.strftime(\"%d/%m/%Y\") for date in objects]\n",
    "        # Chuyển đổi cột 'date' sang định dạng datetime\n",
    "        data['date'] = pd.to_datetime(data['date'], format=\"%d/%m/%Y\")\n",
    "\n",
    "    # Reset lại index\n",
    "    data = data.reset_index(drop=True)\n",
    "\n",
    "    # Sửa tên cột\n",
    "    data = data.rename(columns=lambda x: x.strip())\n",
    "    data[data.columns[1:]] = data[data.columns[1:]].replace(r\"\\s+\", 0, regex=True) #ép kiểu cột sang int\n",
    "    data[data.columns[1:]] = round(data[data.columns[1:]].astype('double'), 2)\n",
    "\n",
    "    # Thêm cột mới nếu chưa xuất hiện\n",
    "    for column in required_columns:\n",
    "        if column not in data.columns:\n",
    "            data[column] = 0\n",
    "\n",
    "    # Thêm cột 'aqi' bằng cách lấy giá trị lớn nhất\n",
    "    data['aqi'] = data[required_columns].max(axis=1)\n",
    "    # Đảm bảo thứ tự các cột là 'pm25', 'pm10', 'o3', 'no2', 'so2', 'co', 'aqi'\n",
    "    data = data[['date', 'pm25', 'pm10', 'o3', 'no2', 'so2', 'co', 'aqi']]\n",
    "\n",
    "    # Áp dụng hàm phân loại AQI cho cột 'aqi'\n",
    "    data['mức độ ô nhiễm'] = data['aqi'].apply(classify_aqi)\n",
    "    \n",
    "    # Thêm cột 'địa điểm trạm đo' từ tên tệp\n",
    "    data.insert(0, \"địa điểm trạm đo\", file.split(\"-\")[0].strip())\n",
    "\n",
    "    # Lưu DataFrame đã cập nhật vào tệp CSV mới\n",
    "    data.to_csv(file_path, index=False)\n",
    "print(\"Okey!!!!!!!\")"
   ]
  },
  {
   "cell_type": "code",
   "execution_count": null,
   "metadata": {},
   "outputs": [],
   "source": [
    "file_path = \"../data/tramdo/Tân An - Long An.csv\""
   ]
  },
  {
   "cell_type": "code",
   "execution_count": null,
   "metadata": {},
   "outputs": [],
   "source": [
    "def remove_pm10(value):\n",
    "    if value > 150:\n",
    "        value = value - 30\n",
    "    return value"
   ]
  },
  {
   "cell_type": "code",
   "execution_count": null,
   "metadata": {},
   "outputs": [],
   "source": [
    "data = pd.read_csv(file_path)\n",
    "data[\"pm10\"] = data[\"pm10\"].apply(remove_pm10)\n",
    "data.to_csv(file_path, index=False)"
   ]
  },
  {
   "cell_type": "code",
   "execution_count": null,
   "metadata": {},
   "outputs": [],
   "source": [
    "required_columns = ['pm25', 'pm10', 'o3', 'no2', 'so2', 'co']"
   ]
  },
  {
   "cell_type": "code",
   "execution_count": 29,
   "metadata": {},
   "outputs": [
    {
     "name": "stdout",
     "output_type": "stream",
     "text": [
      "Ba Đình - Hà Nội.csv\n",
      "Biên Hòa - Đồng Nai.csv\n",
      "Bà Rịa - Bà Rịa Vũng Tàu.csv\n",
      "Bình Chánh - Hồ Chí Minh.csv\n",
      "Bảo Thắng - Lào Cai.csv\n",
      "Bắc Ninh - Bắc Ninh.csv\n",
      "Bắc Từ Liêm - Hà Nội.csv\n",
      "Bến Lức - Long An.csv\n",
      "Cao Lộc - Lạng Sơn.csv\n",
      "Chí Linh - Hải Dương.csv\n",
      "Cầu Giấy - Hà Nội.csv\n",
      "Cẩm Giàng - Hải Dương.csv\n",
      "Cẩm Phả - Quảng Ninh.csv\n",
      "Duyên Hải - Trà Vinh.csv\n",
      "Gia Bình - Bắc Ninh.csv\n",
      "Hoàn Kiếm - Hà Nội.csv\n",
      "Hoàng Mai - Hà Nội.csv\n",
      "Hàm Yên - Tuyên Quang.csv\n",
      "Hòa Thành - Tây Ninh.csv\n",
      "Hạ Long - Quảng Ninh.csv\n",
      "Hải Châu - Đà Nẵng.csv\n",
      "Hải Hà - Quảng Ninh.csv\n",
      "Hữu Lũng - Lạng Sơn.csv\n",
      "Kinh Môn - Hải Dương.csv\n",
      "Kiến An - Hải Phòng.csv\n",
      "Long Biên - Hà Nội.csv\n",
      "Long Hồ - Vĩnh Long.csv\n",
      "Láng Hạ - Hà Nội.csv\n",
      "Lương Tài - Bắc Ninh.csv\n",
      "Mỹ Đình - Hà Nội.csv\n",
      "Nam Từ Liêm - Hà Nội.csv\n",
      "Ngô Quyền - Hải Phòng.csv\n",
      "Nha Trang - Khánh Hòa.csv\n",
      "Nho Quan - Ninh Bình.csv\n",
      "Nhà Bè - Hồ Chí Minh.csv\n",
      "Ninh Kiều - Cần Thơ.csv\n",
      "Phú Mỹ - Bà Rịa Vũng Tàu.csv\n",
      "Phú Ninh - Quảng Nam.csv\n",
      "Phúc Thọ - Hà Nội.csv\n",
      "Phạm Văn Đồng - Hà Nội.csv\n",
      "Pleiku - Gia Lai.csv\n",
      "Quảng Trạch - Thanh Hóa.csv\n",
      "Quảng Yên - Quảng Ninh.csv\n",
      "Quận 1 - Hồ Chí Minh.csv\n",
      "Quận 5 - Hồ Chí Minh.csv\n",
      "Quận 6 - Hồ Chí Minh.csv\n",
      "Quế Võ - Bắc Ninh.csv\n",
      "Thanh Xuân - Hà Nội.csv\n",
      "Thuận Thành - Bắc Ninh.csv\n",
      "TP.Cao Bằng - Cao Bằng.csv\n",
      "Tp.Huế - Thừa Thiên Huế.csv\n"
     ]
    },
    {
     "ename": "ValueError",
     "evalue": "time data '2019-02-12' does not match format '%d/%m/%Y'",
     "output_type": "error",
     "traceback": [
      "\u001b[1;31m---------------------------------------------------------------------------\u001b[0m",
      "\u001b[1;31mValueError\u001b[0m                                Traceback (most recent call last)",
      "\u001b[1;32md:\\study\\data_visualize\\thuchanh\\finaltern\\air_quality\\code\\classification.ipynb Cell 11\u001b[0m line \u001b[0;36m9\n\u001b[0;32m      <a href='vscode-notebook-cell:/d%3A/study/data_visualize/thuchanh/finaltern/air_quality/code/classification.ipynb#X52sZmlsZQ%3D%3D?line=7'>8</a>\u001b[0m \u001b[39mtry\u001b[39;00m:\n\u001b[1;32m----> <a href='vscode-notebook-cell:/d%3A/study/data_visualize/thuchanh/finaltern/air_quality/code/classification.ipynb#X52sZmlsZQ%3D%3D?line=8'>9</a>\u001b[0m     data[\u001b[39m'\u001b[39m\u001b[39mdate\u001b[39m\u001b[39m'\u001b[39m] \u001b[39m=\u001b[39m pd\u001b[39m.\u001b[39;49mto_datetime(data[\u001b[39m'\u001b[39;49m\u001b[39mdate\u001b[39;49m\u001b[39m'\u001b[39;49m])\n\u001b[0;32m     <a href='vscode-notebook-cell:/d%3A/study/data_visualize/thuchanh/finaltern/air_quality/code/classification.ipynb#X52sZmlsZQ%3D%3D?line=10'>11</a>\u001b[0m \u001b[39mexcept\u001b[39;00m \u001b[39mValueError\u001b[39;00m:\n",
      "File \u001b[1;32mc:\\Users\\vannt\\AppData\\Local\\Programs\\Python\\Python311\\Lib\\site-packages\\pandas\\core\\tools\\datetimes.py:1050\u001b[0m, in \u001b[0;36mto_datetime\u001b[1;34m(arg, errors, dayfirst, yearfirst, utc, format, exact, unit, infer_datetime_format, origin, cache)\u001b[0m\n\u001b[0;32m   1049\u001b[0m \u001b[39melse\u001b[39;00m:\n\u001b[1;32m-> 1050\u001b[0m     values \u001b[39m=\u001b[39m convert_listlike(arg\u001b[39m.\u001b[39;49m_values, \u001b[39mformat\u001b[39;49m)\n\u001b[0;32m   1051\u001b[0m     result \u001b[39m=\u001b[39m arg\u001b[39m.\u001b[39m_constructor(values, index\u001b[39m=\u001b[39marg\u001b[39m.\u001b[39mindex, name\u001b[39m=\u001b[39marg\u001b[39m.\u001b[39mname)\n",
      "File \u001b[1;32mc:\\Users\\vannt\\AppData\\Local\\Programs\\Python\\Python311\\Lib\\site-packages\\pandas\\core\\tools\\datetimes.py:453\u001b[0m, in \u001b[0;36m_convert_listlike_datetimes\u001b[1;34m(arg, format, name, utc, unit, errors, dayfirst, yearfirst, exact)\u001b[0m\n\u001b[0;32m    452\u001b[0m \u001b[39mif\u001b[39;00m \u001b[39mformat\u001b[39m \u001b[39mis\u001b[39;00m \u001b[39mnot\u001b[39;00m \u001b[39mNone\u001b[39;00m \u001b[39mand\u001b[39;00m \u001b[39mformat\u001b[39m \u001b[39m!=\u001b[39m \u001b[39m\"\u001b[39m\u001b[39mmixed\u001b[39m\u001b[39m\"\u001b[39m:\n\u001b[1;32m--> 453\u001b[0m     \u001b[39mreturn\u001b[39;00m _array_strptime_with_fallback(arg, name, utc, \u001b[39mformat\u001b[39;49m, exact, errors)\n\u001b[0;32m    455\u001b[0m result, tz_parsed \u001b[39m=\u001b[39m objects_to_datetime64ns(\n\u001b[0;32m    456\u001b[0m     arg,\n\u001b[0;32m    457\u001b[0m     dayfirst\u001b[39m=\u001b[39mdayfirst,\n\u001b[1;32m   (...)\u001b[0m\n\u001b[0;32m    461\u001b[0m     allow_object\u001b[39m=\u001b[39m\u001b[39mTrue\u001b[39;00m,\n\u001b[0;32m    462\u001b[0m )\n",
      "File \u001b[1;32mc:\\Users\\vannt\\AppData\\Local\\Programs\\Python\\Python311\\Lib\\site-packages\\pandas\\core\\tools\\datetimes.py:484\u001b[0m, in \u001b[0;36m_array_strptime_with_fallback\u001b[1;34m(arg, name, utc, fmt, exact, errors)\u001b[0m\n\u001b[0;32m    481\u001b[0m \u001b[39m\u001b[39m\u001b[39m\"\"\"\u001b[39;00m\n\u001b[0;32m    482\u001b[0m \u001b[39mCall array_strptime, with fallback behavior depending on 'errors'.\u001b[39;00m\n\u001b[0;32m    483\u001b[0m \u001b[39m\"\"\"\u001b[39;00m\n\u001b[1;32m--> 484\u001b[0m result, timezones \u001b[39m=\u001b[39m array_strptime(arg, fmt, exact\u001b[39m=\u001b[39;49mexact, errors\u001b[39m=\u001b[39;49merrors, utc\u001b[39m=\u001b[39;49mutc)\n\u001b[0;32m    485\u001b[0m \u001b[39mif\u001b[39;00m \u001b[39many\u001b[39m(tz \u001b[39mis\u001b[39;00m \u001b[39mnot\u001b[39;00m \u001b[39mNone\u001b[39;00m \u001b[39mfor\u001b[39;00m tz \u001b[39min\u001b[39;00m timezones):\n",
      "File \u001b[1;32mc:\\Users\\vannt\\AppData\\Local\\Programs\\Python\\Python311\\Lib\\site-packages\\pandas\\_libs\\tslibs\\strptime.pyx:530\u001b[0m, in \u001b[0;36mpandas._libs.tslibs.strptime.array_strptime\u001b[1;34m()\u001b[0m\n",
      "File \u001b[1;32mc:\\Users\\vannt\\AppData\\Local\\Programs\\Python\\Python311\\Lib\\site-packages\\pandas\\_libs\\tslibs\\strptime.pyx:351\u001b[0m, in \u001b[0;36mpandas._libs.tslibs.strptime.array_strptime\u001b[1;34m()\u001b[0m\n",
      "\u001b[1;31mValueError\u001b[0m: time data \"1/13/2020\" doesn't match format \"%Y-%m-%d\", at position 507. You might want to try:\n    - passing `format` if your strings have a consistent format;\n    - passing `format='ISO8601'` if your strings are all ISO8601 but not necessarily in exactly the same format;\n    - passing `format='mixed'`, and the format will be inferred for each element individually. You might want to use `dayfirst` alongside this.",
      "\nDuring handling of the above exception, another exception occurred:\n",
      "\u001b[1;31mValueError\u001b[0m                                Traceback (most recent call last)",
      "\u001b[1;32md:\\study\\data_visualize\\thuchanh\\finaltern\\air_quality\\code\\classification.ipynb Cell 11\u001b[0m line \u001b[0;36m1\n\u001b[0;32m      <a href='vscode-notebook-cell:/d%3A/study/data_visualize/thuchanh/finaltern/air_quality/code/classification.ipynb#X52sZmlsZQ%3D%3D?line=8'>9</a>\u001b[0m     data[\u001b[39m'\u001b[39m\u001b[39mdate\u001b[39m\u001b[39m'\u001b[39m] \u001b[39m=\u001b[39m pd\u001b[39m.\u001b[39mto_datetime(data[\u001b[39m'\u001b[39m\u001b[39mdate\u001b[39m\u001b[39m'\u001b[39m])\n\u001b[0;32m     <a href='vscode-notebook-cell:/d%3A/study/data_visualize/thuchanh/finaltern/air_quality/code/classification.ipynb#X52sZmlsZQ%3D%3D?line=10'>11</a>\u001b[0m \u001b[39mexcept\u001b[39;00m \u001b[39mValueError\u001b[39;00m:\n\u001b[1;32m---> <a href='vscode-notebook-cell:/d%3A/study/data_visualize/thuchanh/finaltern/air_quality/code/classification.ipynb#X52sZmlsZQ%3D%3D?line=11'>12</a>\u001b[0m     objects \u001b[39m=\u001b[39m [datetime\u001b[39m.\u001b[39;49mstrptime(date, \u001b[39m\"\u001b[39;49m\u001b[39m%d\u001b[39;49;00m\u001b[39m/\u001b[39;49m\u001b[39m%\u001b[39;49m\u001b[39mm/\u001b[39;49m\u001b[39m%\u001b[39;49m\u001b[39mY\u001b[39;49m\u001b[39m\"\u001b[39;49m) \u001b[39mfor\u001b[39;49;00m date \u001b[39min\u001b[39;49;00m data[\u001b[39m'\u001b[39;49m\u001b[39mdate\u001b[39;49m\u001b[39m'\u001b[39;49m]]\n\u001b[0;32m     <a href='vscode-notebook-cell:/d%3A/study/data_visualize/thuchanh/finaltern/air_quality/code/classification.ipynb#X52sZmlsZQ%3D%3D?line=12'>13</a>\u001b[0m     \u001b[39m# Chuyển đổi sang định dạng mới \"dd/mm/yyyy\"\u001b[39;00m\n\u001b[0;32m     <a href='vscode-notebook-cell:/d%3A/study/data_visualize/thuchanh/finaltern/air_quality/code/classification.ipynb#X52sZmlsZQ%3D%3D?line=13'>14</a>\u001b[0m     data[\u001b[39m\"\u001b[39m\u001b[39mdate\u001b[39m\u001b[39m\"\u001b[39m] \u001b[39m=\u001b[39m [date\u001b[39m.\u001b[39mstrftime(\u001b[39m\"\u001b[39m\u001b[39m%d\u001b[39;00m\u001b[39m/\u001b[39m\u001b[39m%\u001b[39m\u001b[39mm/\u001b[39m\u001b[39m%\u001b[39m\u001b[39mY\u001b[39m\u001b[39m\"\u001b[39m) \u001b[39mfor\u001b[39;00m date \u001b[39min\u001b[39;00m objects]\n",
      "\u001b[1;32md:\\study\\data_visualize\\thuchanh\\finaltern\\air_quality\\code\\classification.ipynb Cell 11\u001b[0m line \u001b[0;36m1\n\u001b[0;32m      <a href='vscode-notebook-cell:/d%3A/study/data_visualize/thuchanh/finaltern/air_quality/code/classification.ipynb#X52sZmlsZQ%3D%3D?line=8'>9</a>\u001b[0m     data[\u001b[39m'\u001b[39m\u001b[39mdate\u001b[39m\u001b[39m'\u001b[39m] \u001b[39m=\u001b[39m pd\u001b[39m.\u001b[39mto_datetime(data[\u001b[39m'\u001b[39m\u001b[39mdate\u001b[39m\u001b[39m'\u001b[39m])\n\u001b[0;32m     <a href='vscode-notebook-cell:/d%3A/study/data_visualize/thuchanh/finaltern/air_quality/code/classification.ipynb#X52sZmlsZQ%3D%3D?line=10'>11</a>\u001b[0m \u001b[39mexcept\u001b[39;00m \u001b[39mValueError\u001b[39;00m:\n\u001b[1;32m---> <a href='vscode-notebook-cell:/d%3A/study/data_visualize/thuchanh/finaltern/air_quality/code/classification.ipynb#X52sZmlsZQ%3D%3D?line=11'>12</a>\u001b[0m     objects \u001b[39m=\u001b[39m [datetime\u001b[39m.\u001b[39;49mstrptime(date, \u001b[39m\"\u001b[39;49m\u001b[39m%d\u001b[39;49;00m\u001b[39m/\u001b[39;49m\u001b[39m%\u001b[39;49m\u001b[39mm/\u001b[39;49m\u001b[39m%\u001b[39;49m\u001b[39mY\u001b[39;49m\u001b[39m\"\u001b[39;49m) \u001b[39mfor\u001b[39;00m date \u001b[39min\u001b[39;00m data[\u001b[39m'\u001b[39m\u001b[39mdate\u001b[39m\u001b[39m'\u001b[39m]]\n\u001b[0;32m     <a href='vscode-notebook-cell:/d%3A/study/data_visualize/thuchanh/finaltern/air_quality/code/classification.ipynb#X52sZmlsZQ%3D%3D?line=12'>13</a>\u001b[0m     \u001b[39m# Chuyển đổi sang định dạng mới \"dd/mm/yyyy\"\u001b[39;00m\n\u001b[0;32m     <a href='vscode-notebook-cell:/d%3A/study/data_visualize/thuchanh/finaltern/air_quality/code/classification.ipynb#X52sZmlsZQ%3D%3D?line=13'>14</a>\u001b[0m     data[\u001b[39m\"\u001b[39m\u001b[39mdate\u001b[39m\u001b[39m\"\u001b[39m] \u001b[39m=\u001b[39m [date\u001b[39m.\u001b[39mstrftime(\u001b[39m\"\u001b[39m\u001b[39m%d\u001b[39;00m\u001b[39m/\u001b[39m\u001b[39m%\u001b[39m\u001b[39mm/\u001b[39m\u001b[39m%\u001b[39m\u001b[39mY\u001b[39m\u001b[39m\"\u001b[39m) \u001b[39mfor\u001b[39;00m date \u001b[39min\u001b[39;00m objects]\n",
      "File \u001b[1;32mc:\\Users\\vannt\\AppData\\Local\\Programs\\Python\\Python311\\Lib\\_strptime.py:568\u001b[0m, in \u001b[0;36m_strptime_datetime\u001b[1;34m(cls, data_string, format)\u001b[0m\n\u001b[0;32m    565\u001b[0m \u001b[39mdef\u001b[39;00m \u001b[39m_strptime_datetime\u001b[39m(\u001b[39mcls\u001b[39m, data_string, \u001b[39mformat\u001b[39m\u001b[39m=\u001b[39m\u001b[39m\"\u001b[39m\u001b[39m%a\u001b[39;00m\u001b[39m \u001b[39m\u001b[39m%\u001b[39m\u001b[39mb \u001b[39m\u001b[39m%d\u001b[39;00m\u001b[39m \u001b[39m\u001b[39m%\u001b[39m\u001b[39mH:\u001b[39m\u001b[39m%\u001b[39m\u001b[39mM:\u001b[39m\u001b[39m%\u001b[39m\u001b[39mS \u001b[39m\u001b[39m%\u001b[39m\u001b[39mY\u001b[39m\u001b[39m\"\u001b[39m):\n\u001b[0;32m    566\u001b[0m \u001b[39m    \u001b[39m\u001b[39m\"\"\"Return a class cls instance based on the input string and the\u001b[39;00m\n\u001b[0;32m    567\u001b[0m \u001b[39m    format string.\"\"\"\u001b[39;00m\n\u001b[1;32m--> 568\u001b[0m     tt, fraction, gmtoff_fraction \u001b[39m=\u001b[39m _strptime(data_string, \u001b[39mformat\u001b[39;49m)\n\u001b[0;32m    569\u001b[0m     tzname, gmtoff \u001b[39m=\u001b[39m tt[\u001b[39m-\u001b[39m\u001b[39m2\u001b[39m:]\n\u001b[0;32m    570\u001b[0m     args \u001b[39m=\u001b[39m tt[:\u001b[39m6\u001b[39m] \u001b[39m+\u001b[39m (fraction,)\n",
      "File \u001b[1;32mc:\\Users\\vannt\\AppData\\Local\\Programs\\Python\\Python311\\Lib\\_strptime.py:349\u001b[0m, in \u001b[0;36m_strptime\u001b[1;34m(data_string, format)\u001b[0m\n\u001b[0;32m    347\u001b[0m found \u001b[39m=\u001b[39m format_regex\u001b[39m.\u001b[39mmatch(data_string)\n\u001b[0;32m    348\u001b[0m \u001b[39mif\u001b[39;00m \u001b[39mnot\u001b[39;00m found:\n\u001b[1;32m--> 349\u001b[0m     \u001b[39mraise\u001b[39;00m \u001b[39mValueError\u001b[39;00m(\u001b[39m\"\u001b[39m\u001b[39mtime data \u001b[39m\u001b[39m%r\u001b[39;00m\u001b[39m does not match format \u001b[39m\u001b[39m%r\u001b[39;00m\u001b[39m\"\u001b[39m \u001b[39m%\u001b[39m\n\u001b[0;32m    350\u001b[0m                      (data_string, \u001b[39mformat\u001b[39m))\n\u001b[0;32m    351\u001b[0m \u001b[39mif\u001b[39;00m \u001b[39mlen\u001b[39m(data_string) \u001b[39m!=\u001b[39m found\u001b[39m.\u001b[39mend():\n\u001b[0;32m    352\u001b[0m     \u001b[39mraise\u001b[39;00m \u001b[39mValueError\u001b[39;00m(\u001b[39m\"\u001b[39m\u001b[39munconverted data remains: \u001b[39m\u001b[39m%s\u001b[39;00m\u001b[39m\"\u001b[39m \u001b[39m%\u001b[39m\n\u001b[0;32m    353\u001b[0m                       data_string[found\u001b[39m.\u001b[39mend():])\n",
      "\u001b[1;31mValueError\u001b[0m: time data '2019-02-12' does not match format '%d/%m/%Y'"
     ]
    }
   ],
   "source": [
    "warnings.filterwarnings(\"ignore\")\n",
    "for file in files:\n",
    "    print(file)\n",
    "    # Đọc dữ liệu từ tệp CSV\n",
    "    file_path = f\"../data/tramdo/{file}\"\n",
    "    data = pd.read_csv(file_path)\n",
    "\n",
    "    try:\n",
    "        data['date'] = pd.to_datetime(data['date'])\n",
    "\n",
    "    except ValueError:\n",
    "        objects = [datetime.strptime(date, \"%d/%m/%Y\") for date in data['date']]\n",
    "        # Chuyển đổi sang định dạng mới \"dd/mm/yyyy\"\n",
    "        data[\"date\"] = [date.strftime(\"%d/%m/%Y\") for date in objects]\n",
    "        # Chuyển đổi cột 'date' sang định dạng datetime\n",
    "        data['date'] = pd.to_datetime(data['date'], format=\"%d/%m/%Y\")\n",
    "\n",
    "    # Reset lại index\n",
    "    data = data.reset_index(drop=True)\n",
    "    data['aqi'] = data[required_columns].max(axis=1)\n",
    "    data['mức độ ô nhiễm'] = data['aqi'].apply(classify_aqi)\n",
    "    data.to_csv(file_path, index=False)"
   ]
  },
  {
   "cell_type": "code",
   "execution_count": null,
   "metadata": {},
   "outputs": [],
   "source": []
  }
 ],
 "metadata": {
  "kernelspec": {
   "display_name": "Python 3",
   "language": "python",
   "name": "python3"
  },
  "language_info": {
   "codemirror_mode": {
    "name": "ipython",
    "version": 3
   },
   "file_extension": ".py",
   "mimetype": "text/x-python",
   "name": "python",
   "nbconvert_exporter": "python",
   "pygments_lexer": "ipython3",
   "version": "3.11.5"
  }
 },
 "nbformat": 4,
 "nbformat_minor": 2
}
