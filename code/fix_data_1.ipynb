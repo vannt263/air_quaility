{
 "cells": [
  {
   "cell_type": "code",
   "execution_count": 191,
   "metadata": {},
   "outputs": [],
   "source": [
    "import pandas as pd\n",
    "import numpy as np\n",
    "import os"
   ]
  },
  {
   "cell_type": "code",
   "execution_count": 201,
   "metadata": {},
   "outputs": [],
   "source": [
    "files = os.listdir(\"../data\")"
   ]
  },
  {
   "cell_type": "code",
   "execution_count": 202,
   "metadata": {},
   "outputs": [],
   "source": [
    "required_columns = ['pm25', 'pm10', 'o3', 'no2', 'so2', 'co', 'aqi']"
   ]
  },
  {
   "cell_type": "code",
   "execution_count": 211,
   "metadata": {},
   "outputs": [
    {
     "data": {
      "text/plain": [
       "'Gia Lai.csv'"
      ]
     },
     "execution_count": 211,
     "metadata": {},
     "output_type": "execute_result"
    }
   ],
   "source": [
    "files[6].split(\"-\")[0].strip()"
   ]
  },
  {
   "cell_type": "code",
   "execution_count": 203,
   "metadata": {},
   "outputs": [
    {
     "name": "stdout",
     "output_type": "stream",
     "text": [
      "Ba Đình - Hà Nội.csv\n",
      "Bình Định - Bắc Ninh.csv\n",
      "Bến Lức - Long An.csv\n",
      "Cao Đức - Bắc Ninh.csv\n",
      "Chi Phương - Lạng Sơn.csv\n",
      "Chí Linh - Hải Dương.csv\n",
      "Gia Lai.csv\n",
      "Hà Nội.csv\n",
      "Hạ Long - Quảng Ninh.csv\n",
      "Hồ Chí Minh.csv\n",
      "Hồng Phong - Lạng Sơn.csv\n",
      "Kinh Môn - Hải Dương.csv\n",
      "Lai Cách - Hải Dương.csv\n",
      "Lào Cai.csv\n",
      "Minh Thành - Quảng Ninh.csv\n",
      "Nha Trang.csv\n",
      "Nho Quan - Ninh Bình.csv\n",
      "Ninh Kiều - Cần Thơ.csv\n",
      "Phong Cốc - Bắc Ninh.csv\n",
      "Phù Lãng - Bắc Ninh.csv\n",
      "Phú Xá - Bắc Ninh.csv\n",
      "Quế Võ - Bắc Ninh.csv\n",
      "Quế Võ 1 - Bắc Ninh.csv\n",
      "Thuận Thành - Bắc Ninh.csv\n",
      "Thái Nguyên.csv\n",
      "Thừa Thiên Huế.csv\n",
      "Trà Vinh.csv\n"
     ]
    },
    {
     "name": "stderr",
     "output_type": "stream",
     "text": [
      "C:\\Users\\vannt\\AppData\\Local\\Temp\\ipykernel_20280\\2692011188.py:6: UserWarning: Parsing dates in %d/%m/%Y format when dayfirst=False (the default) was specified. Pass `dayfirst=True` or specify a format to silence this warning.\n",
      "  data['date'] = pd.to_datetime(data['date'])\n"
     ]
    },
    {
     "name": "stdout",
     "output_type": "stream",
     "text": [
      "Tràng Bảng - Tây Ninh.csv\n",
      "Trạm khí TTQT - Cao Bằng.csv\n",
      "Tân Bình - Hải Dương.csv\n",
      "Tây Hồ - Hà Nội.csv\n",
      "Tây Ninh.csv\n",
      "Tô Hiệu - Sơn La.csv\n",
      "Tằng Loỏng - Lào Cai.csv\n",
      "Từ Sơn - Bắc Ninh.csv\n",
      "Uông Bí - Quảng Ninh.csv\n",
      "Vinh - Nghệ An.csv\n",
      "Việt Trì - Phú Thọ.csv\n",
      "Vĩnh Long.csv\n",
      "Vũng Tàu.csv\n",
      "Xuân Lâm - Bắc Ninh.csv\n",
      "Yên Mỹ - Quảng Ninh.csv\n",
      "Yên Phong - Bắc Ninh.csv\n",
      "Đà Nẵng.csv\n",
      "Đông Tân - Lạng Sơn.csv\n",
      "Đại Bái - Bắc Ninh.csv\n",
      "Đại Đồng - Bắc Ninh.csv\n",
      "Đề Thám - Cao Bằng.csv\n"
     ]
    }
   ],
   "source": [
    "for file in files:\n",
    "    data = pd.read_csv(f\"../data/{file}\")\n",
    "\n",
    "    # đọc dữ liệu và reset lại index\n",
    "    data['date'] = pd.to_datetime(data['date'])\n",
    "    data = data.sort_values(by='date', ascending=True)\n",
    "    data = data.reset_index(drop=True)\n",
    "    \n",
    "    data = data.rename(columns=lambda x: x.strip()) # sửa tên cột\n",
    "\n",
    "    data[data.columns[1:]] = data[data.columns[1:]].replace(' ', 0) #ép kiểu cột sang int\n",
    "    data[data.columns[1:]] = data[data.columns[1:]].astype(int)\n",
    "\n",
    "    for column in required_columns:\n",
    "        if column not in data.columns:\n",
    "            data[column] = 0 # Thêm cột mới với giá trị None hoặc 0 (tùy ý)\n",
    "\n",
    "    # Đảm bảo thứ tự các cột là 'pm25', 'pm10', 'o3', 'no2', 'so2', 'co', 'aqi'\n",
    "    data = data[['date', 'pm25', 'pm10', 'o3', 'no2', 'so2', 'co', 'aqi']]\n",
    "\n",
    "    # Kiểm tra và gán lại giá trị của 'aqi'\n",
    "    data['aqi'] = data[data.columns[1:]].max(axis=1)\n",
    "    data.insert(0, \"địa điểm trạm đo\", file.split(\"-\")[0].strip())\n",
    "    data.to_csv(f\"../data/{file}\")"
   ]
  }
 ],
 "metadata": {
  "kernelspec": {
   "display_name": "Python 3",
   "language": "python",
   "name": "python3"
  },
  "language_info": {
   "codemirror_mode": {
    "name": "ipython",
    "version": 3
   },
   "file_extension": ".py",
   "mimetype": "text/x-python",
   "name": "python",
   "nbconvert_exporter": "python",
   "pygments_lexer": "ipython3",
   "version": "3.11.5"
  }
 },
 "nbformat": 4,
 "nbformat_minor": 2
}
