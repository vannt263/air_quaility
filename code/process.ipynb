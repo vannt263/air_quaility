{
 "cells": [
  {
   "cell_type": "code",
   "execution_count": 1,
   "metadata": {},
   "outputs": [],
   "source": [
    "import os\n",
    "import numpy as np\n",
    "import pandas as pd"
   ]
  },
  {
   "cell_type": "code",
   "execution_count": 6,
   "metadata": {},
   "outputs": [
    {
     "name": "stdout",
     "output_type": "stream",
     "text": [
      "Collecting openpyxl\n",
      "  Downloading openpyxl-3.1.2-py2.py3-none-any.whl (249 kB)\n",
      "     ---------------------------------------- 0.0/250.0 kB ? eta -:--:--\n",
      "     - -------------------------------------- 10.2/250.0 kB ? eta -:--:--\n",
      "     ------ ------------------------------ 41.0/250.0 kB 487.6 kB/s eta 0:00:01\n",
      "     --------------------- ---------------- 143.4/250.0 kB 1.2 MB/s eta 0:00:01\n",
      "     -------------------------------------  245.8/250.0 kB 1.7 MB/s eta 0:00:01\n",
      "     -------------------------------------- 250.0/250.0 kB 1.4 MB/s eta 0:00:00\n",
      "Collecting et-xmlfile (from openpyxl)\n",
      "  Downloading et_xmlfile-1.1.0-py3-none-any.whl (4.7 kB)\n",
      "Installing collected packages: et-xmlfile, openpyxl\n",
      "Successfully installed et-xmlfile-1.1.0 openpyxl-3.1.2\n"
     ]
    }
   ],
   "source": [
    "!pip install openpyxl\n"
   ]
  },
  {
   "cell_type": "code",
   "execution_count": 2,
   "metadata": {},
   "outputs": [],
   "source": [
    "files = os.listdir(\"../die\")"
   ]
  },
  {
   "cell_type": "code",
   "execution_count": 8,
   "metadata": {},
   "outputs": [],
   "source": [
    "for file in files:\n",
    "    df = pd.read_excel(f\"../die/{file}\")\n",
    "    df.to_csv(f\"../die/{file}\")"
   ]
  },
  {
   "cell_type": "code",
   "execution_count": 14,
   "metadata": {},
   "outputs": [],
   "source": [
    "df = pd.read_csv(\"D:/study/Data_visualize/CK/air_quality/die/die-2014.xlsx\")\n",
    "df.to_csv(\"D:/study/Data_visualize/CK/air_quality/die/die-2014.csv\")"
   ]
  },
  {
   "cell_type": "code",
   "execution_count": 2,
   "metadata": {},
   "outputs": [],
   "source": [
    "required_columns = ['pm25', 'pm10', 'o3', 'no2', 'so2', 'co', 'aqi']"
   ]
  },
  {
   "cell_type": "code",
   "execution_count": 13,
   "metadata": {},
   "outputs": [],
   "source": [
    "def phan_loai_aqi(aqi):\n",
    "    if 0 <= aqi <= 50:\n",
    "        return 'Tốt'\n",
    "    elif 51 <= aqi <= 100:\n",
    "        return 'Vừa Phải'\n",
    "    elif 101 <= aqi <= 150:\n",
    "        return 'Không tốt cho người nhạy cảm'\n",
    "    elif 151 <= aqi <= 200:\n",
    "        return 'Không tốt'\n",
    "    elif 201 <= aqi <= 300:\n",
    "        return 'Rất không tốt'\n",
    "    else:\n",
    "        return 'Nguy hiểm'\n",
    "\n",
    "\n"
   ]
  },
  {
   "cell_type": "markdown",
   "metadata": {},
   "source": [
    "---"
   ]
  },
  {
   "cell_type": "code",
   "execution_count": 39,
   "metadata": {},
   "outputs": [
    {
     "data": {
      "text/html": [
       "<div>\n",
       "<style scoped>\n",
       "    .dataframe tbody tr th:only-of-type {\n",
       "        vertical-align: middle;\n",
       "    }\n",
       "\n",
       "    .dataframe tbody tr th {\n",
       "        vertical-align: top;\n",
       "    }\n",
       "\n",
       "    .dataframe thead th {\n",
       "        text-align: right;\n",
       "    }\n",
       "</style>\n",
       "<table border=\"1\" class=\"dataframe\">\n",
       "  <thead>\n",
       "    <tr style=\"text-align: right;\">\n",
       "      <th></th>\n",
       "      <th>date</th>\n",
       "      <th>max</th>\n",
       "    </tr>\n",
       "  </thead>\n",
       "  <tbody>\n",
       "    <tr>\n",
       "      <th>0</th>\n",
       "      <td>2022-11-19</td>\n",
       "      <td>103.8</td>\n",
       "    </tr>\n",
       "    <tr>\n",
       "      <th>1</th>\n",
       "      <td>2022-11-20</td>\n",
       "      <td>229.3</td>\n",
       "    </tr>\n",
       "    <tr>\n",
       "      <th>2</th>\n",
       "      <td>2022-11-21</td>\n",
       "      <td>83.9</td>\n",
       "    </tr>\n",
       "    <tr>\n",
       "      <th>3</th>\n",
       "      <td>2022-11-22</td>\n",
       "      <td>159.3</td>\n",
       "    </tr>\n",
       "    <tr>\n",
       "      <th>4</th>\n",
       "      <td>2022-11-23</td>\n",
       "      <td>231.1</td>\n",
       "    </tr>\n",
       "    <tr>\n",
       "      <th>...</th>\n",
       "      <td>...</td>\n",
       "      <td>...</td>\n",
       "    </tr>\n",
       "    <tr>\n",
       "      <th>341</th>\n",
       "      <td>2023-11-20</td>\n",
       "      <td>193.1</td>\n",
       "    </tr>\n",
       "    <tr>\n",
       "      <th>342</th>\n",
       "      <td>2023-11-21</td>\n",
       "      <td>334.1</td>\n",
       "    </tr>\n",
       "    <tr>\n",
       "      <th>343</th>\n",
       "      <td>2023-11-22</td>\n",
       "      <td>97.1</td>\n",
       "    </tr>\n",
       "    <tr>\n",
       "      <th>344</th>\n",
       "      <td>2023-11-23</td>\n",
       "      <td>511.5</td>\n",
       "    </tr>\n",
       "    <tr>\n",
       "      <th>345</th>\n",
       "      <td>2023-11-24</td>\n",
       "      <td>165.4</td>\n",
       "    </tr>\n",
       "  </tbody>\n",
       "</table>\n",
       "<p>346 rows × 2 columns</p>\n",
       "</div>"
      ],
      "text/plain": [
       "           date    max\n",
       "0    2022-11-19  103.8\n",
       "1    2022-11-20  229.3\n",
       "2    2022-11-21   83.9\n",
       "3    2022-11-22  159.3\n",
       "4    2022-11-23  231.1\n",
       "..          ...    ...\n",
       "341  2023-11-20  193.1\n",
       "342  2023-11-21  334.1\n",
       "343  2023-11-22   97.1\n",
       "344  2023-11-23  511.5\n",
       "345  2023-11-24  165.4\n",
       "\n",
       "[346 rows x 2 columns]"
      ]
     },
     "execution_count": 39,
     "metadata": {},
     "output_type": "execute_result"
    }
   ],
   "source": [
    "import pandas as pd\n",
    "from datetime import datetime\n",
    "\n",
    "# Đọc dữ liệu từ tệp văn bản\n",
    "with open('../data/Tân An - Long An - pm25.txt', 'r') as file:\n",
    "    lines = file.readlines()\n",
    "\n",
    "# Tách các giá trị bằng dấu phẩy và loại bỏ dòng tiêu đề\n",
    "header = lines[0].strip().split(',')\n",
    "data = [line.strip().split(',') for line in lines[1:]]\n",
    "\n",
    "# Chuyển đổi định dạng của cột \"date\"\n",
    "for row in data:\n",
    "    row[0] = datetime.strptime(row[0], '%Y-%m-%dT%H:%M:%S.%fZ').strftime('%Y-%m-%d')\n",
    "\n",
    "# Thêm lại dòng tiêu đề vào dữ liệu\n",
    "data.insert(0, header)\n",
    "\n",
    "# Tạo DataFrame từ dữ liệu\n",
    "df = pd.DataFrame(data[1:], columns=header)\n",
    "\n",
    "# Lưu DataFrame vào định dạng CSV\n",
    "df = df[['date','max']]\n",
    "df\n"
   ]
  },
  {
   "cell_type": "code",
   "execution_count": 40,
   "metadata": {},
   "outputs": [],
   "source": [
    "df.to_csv(\"../data/Tân An - Long An - pm25.csv\", index=False)"
   ]
  },
  {
   "cell_type": "code",
   "execution_count": null,
   "metadata": {},
   "outputs": [],
   "source": []
  }
 ],
 "metadata": {
  "kernelspec": {
   "display_name": "Python 3",
   "language": "python",
   "name": "python3"
  },
  "language_info": {
   "codemirror_mode": {
    "name": "ipython",
    "version": 3
   },
   "file_extension": ".py",
   "mimetype": "text/x-python",
   "name": "python",
   "nbconvert_exporter": "python",
   "pygments_lexer": "ipython3",
   "version": "3.11.5"
  }
 },
 "nbformat": 4,
 "nbformat_minor": 2
}
