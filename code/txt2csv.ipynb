{
 "cells": [
  {
   "cell_type": "code",
   "execution_count": 2,
   "metadata": {},
   "outputs": [],
   "source": [
    "import os\n",
    "import numpy as np\n",
    "import pandas as pd\n",
    "from datetime import datetime"
   ]
  },
  {
   "cell_type": "code",
   "execution_count": 27,
   "metadata": {},
   "outputs": [],
   "source": [
    "directory = \"../data\"\n",
    "files = [file for file in os.listdir(directory) if file.endswith(\".txt\")]"
   ]
  },
  {
   "cell_type": "code",
   "execution_count": 28,
   "metadata": {},
   "outputs": [],
   "source": [
    "def get_file_name(path):\n",
    "    return path[:-4]"
   ]
  },
  {
   "cell_type": "code",
   "execution_count": 29,
   "metadata": {},
   "outputs": [
    {
     "data": {
      "text/plain": [
       "'Biên Hòa - Đồng Nai - pm1'"
      ]
     },
     "execution_count": 29,
     "metadata": {},
     "output_type": "execute_result"
    }
   ],
   "source": [
    "get_file_name(files[0])"
   ]
  },
  {
   "cell_type": "code",
   "execution_count": 30,
   "metadata": {},
   "outputs": [],
   "source": [
    "for file in files:\n",
    "    file_name = get_file_name(file)\n",
    "    file_path = f\"{directory}/{file}\"\n",
    "    with open(file_path, 'r') as f:\n",
    "        lines = f.readlines()\n",
    "\n",
    "    # Tách các giá trị bằng dấu phẩy và loại bỏ dòng tiêu đề\n",
    "    header = lines[0].strip().split(',')\n",
    "    data = [line.strip().split(',') for line in lines[1:]]\n",
    "\n",
    "    # Chuyển đổi định dạng của cột \"date\"\n",
    "    for row in data:\n",
    "        row[0] = datetime.strptime(row[0], '%Y-%m-%dT%H:%M:%S.%fZ').strftime('%Y-%m-%d')\n",
    "\n",
    "    # Thêm lại dòng tiêu đề vào dữ liệu\n",
    "    data.insert(0, header)\n",
    "\n",
    "    # Tạo DataFrame từ dữ liệu\n",
    "    df = pd.DataFrame(data[1:], columns=header)\n",
    "\n",
    "    df['min'] = pd.to_numeric(df['min'], errors='coerce')\n",
    "    df['max'] = pd.to_numeric(df['max'], errors='coerce')\n",
    "    df['median'] = pd.to_numeric(df['median'], errors='coerce')\n",
    "    # Tính trung bình của cột \"min\" và \"max\" và tạo một cột mới \"avg\"\n",
    "    df['avg'] = (df['min'] + df['max']+ df['median']) / 3\n",
    "    df = df[['date','avg']]\n",
    "    df.to_csv(f\"../data/{file_name}.csv\", index=False)\n"
   ]
  },
  {
   "cell_type": "markdown",
   "metadata": {},
   "source": [
    "----"
   ]
  }
 ],
 "metadata": {
  "kernelspec": {
   "display_name": "Python 3",
   "language": "python",
   "name": "python3"
  },
  "language_info": {
   "codemirror_mode": {
    "name": "ipython",
    "version": 3
   },
   "file_extension": ".py",
   "mimetype": "text/x-python",
   "name": "python",
   "nbconvert_exporter": "python",
   "pygments_lexer": "ipython3",
   "version": "3.11.5"
  }
 },
 "nbformat": 4,
 "nbformat_minor": 2
}
