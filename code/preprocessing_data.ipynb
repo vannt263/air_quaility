{
 "cells": [
  {
   "cell_type": "code",
   "execution_count": 7,
   "metadata": {},
   "outputs": [],
   "source": [
    "import pandas as pd\n",
    "import numpy as np\n",
    "import os"
   ]
  },
  {
   "cell_type": "code",
   "execution_count": 217,
   "metadata": {},
   "outputs": [],
   "source": [
    "files = os.listdir(\"../data\")"
   ]
  },
  {
   "cell_type": "code",
   "execution_count": 218,
   "metadata": {},
   "outputs": [],
   "source": [
    "required_columns = ['pm25', 'pm10', 'o3', 'no2', 'so2', 'co', 'aqi']"
   ]
  },
  {
   "cell_type": "code",
   "execution_count": 219,
   "metadata": {},
   "outputs": [
    {
     "name": "stderr",
     "output_type": "stream",
     "text": [
      "C:\\Users\\vannt\\AppData\\Local\\Temp\\ipykernel_20280\\3631063046.py:5: UserWarning: Parsing dates in %d/%m/%Y format when dayfirst=False (the default) was specified. Pass `dayfirst=True` or specify a format to silence this warning.\n",
      "  data['date'] = pd.to_datetime(data['date'])\n"
     ]
    }
   ],
   "source": [
    "for file in files:\n",
    "    data = pd.read_csv(f\"../data/{file}\")\n",
    "\n",
    "    # đọc dữ liệu và reset lại index\n",
    "    data['date'] = pd.to_datetime(data['date'])\n",
    "    data = data.sort_values(by='date', ascending=True)\n",
    "    data = data.reset_index(drop=True)\n",
    "    \n",
    "    data = data.rename(columns=lambda x: x.strip()) # sửa tên cột\n",
    "\n",
    "    data[data.columns[1:]] = data[data.columns[1:]].replace(' ', 0) #ép kiểu cột sang int\n",
    "    data[data.columns[1:]] = data[data.columns[1:]].astype(int)\n",
    "\n",
    "    for column in required_columns:\n",
    "        if column not in data.columns:\n",
    "            data[column] = 0 # Thêm cột mới với giá trị None hoặc 0 (tùy ý)\n",
    "\n",
    "    # Đảm bảo thứ tự các cột là 'pm25', 'pm10', 'o3', 'no2', 'so2', 'co', 'aqi'\n",
    "    # data = data[['date', 'pm25', 'pm10', 'o3', 'no2', 'so2', 'co', 'aqi']]\n",
    "\n",
    "    # Kiểm tra và gán lại giá trị của 'aqi'\n",
    "    data['aqi'] = data[data.columns[1:]].max(axis=1)\n",
    "    data.insert(0, \"địa điểm trạm đo\", file.split(\"-\")[0].strip())\n",
    "    data.to_csv(f\"../data/{file}\")"
   ]
  },
  {
   "cell_type": "code",
   "execution_count": 8,
   "metadata": {},
   "outputs": [],
   "source": [
    "def phan_loai_aqi(aqi):\n",
    "    if 0 <= aqi <= 50:\n",
    "        return 'Tốt'\n",
    "    elif 51 <= aqi <= 100:\n",
    "        return 'Vừa Phải'\n",
    "    elif 101 <= aqi <= 150:\n",
    "        return 'Không tốt cho người nhạy cảm'\n",
    "    elif 151 <= aqi <= 200:\n",
    "        return 'Không tốt'\n",
    "    elif 201 <= aqi <= 300:\n",
    "        return 'Rất không tốt'\n",
    "    else:\n",
    "        return 'Nguy hiểm'"
   ]
  },
  {
   "cell_type": "code",
   "execution_count": 12,
   "metadata": {},
   "outputs": [],
   "source": [
    "data['mức độ ô nhiễm'] = data['aqi'].apply(phan_loai_aqi)"
   ]
  },
  {
   "cell_type": "markdown",
   "metadata": {},
   "source": [
    "---"
   ]
  },
  {
   "cell_type": "code",
   "execution_count": 24,
   "metadata": {},
   "outputs": [
    {
     "ename": "TypeError",
     "evalue": "arg must be a list, tuple, 1-d array, or Series",
     "output_type": "error",
     "traceback": [
      "\u001b[1;31m---------------------------------------------------------------------------\u001b[0m",
      "\u001b[1;31mTypeError\u001b[0m                                 Traceback (most recent call last)",
      "\u001b[1;32md:\\study\\Data_visualize\\CK\\air_quality\\code\\preprocessing_data.ipynb Cell 8\u001b[0m line \u001b[0;36m5\n\u001b[0;32m     <a href='vscode-notebook-cell:/d%3A/study/Data_visualize/CK/air_quality/code/preprocessing_data.ipynb#X36sZmlsZQ%3D%3D?line=51'>52</a>\u001b[0m string_columns \u001b[39m=\u001b[39m data[required_columns]\u001b[39m.\u001b[39mselect_dtypes(include\u001b[39m=\u001b[39m\u001b[39m'\u001b[39m\u001b[39mobject\u001b[39m\u001b[39m'\u001b[39m)\u001b[39m.\u001b[39mcolumns\n\u001b[0;32m     <a href='vscode-notebook-cell:/d%3A/study/Data_visualize/CK/air_quality/code/preprocessing_data.ipynb#X36sZmlsZQ%3D%3D?line=52'>53</a>\u001b[0m data[string_columns] \u001b[39m=\u001b[39m data[string_columns]\u001b[39m.\u001b[39mapply(\u001b[39mlambda\u001b[39;00m x: x\u001b[39m.\u001b[39mstr\u001b[39m.\u001b[39mstrip())\n\u001b[1;32m---> <a href='vscode-notebook-cell:/d%3A/study/Data_visualize/CK/air_quality/code/preprocessing_data.ipynb#X36sZmlsZQ%3D%3D?line=54'>55</a>\u001b[0m data[required_columns] \u001b[39m=\u001b[39m pd\u001b[39m.\u001b[39;49mto_numeric(data[required_columns], errors\u001b[39m=\u001b[39;49m\u001b[39m'\u001b[39;49m\u001b[39mcoerce\u001b[39;49m\u001b[39m'\u001b[39;49m)\u001b[39m.\u001b[39mfillna(\u001b[39m0\u001b[39m)\u001b[39m.\u001b[39mastype(\u001b[39m'\u001b[39m\u001b[39mdouble\u001b[39m\u001b[39m'\u001b[39m)\n\u001b[0;32m     <a href='vscode-notebook-cell:/d%3A/study/Data_visualize/CK/air_quality/code/preprocessing_data.ipynb#X36sZmlsZQ%3D%3D?line=56'>57</a>\u001b[0m \u001b[39m# Thêm cột 'aqi' bằng cách lấy giá trị lớn nhất\u001b[39;00m\n\u001b[0;32m     <a href='vscode-notebook-cell:/d%3A/study/Data_visualize/CK/air_quality/code/preprocessing_data.ipynb#X36sZmlsZQ%3D%3D?line=57'>58</a>\u001b[0m data[\u001b[39m'\u001b[39m\u001b[39maqi\u001b[39m\u001b[39m'\u001b[39m] \u001b[39m=\u001b[39m data[required_columns]\u001b[39m.\u001b[39mmax(axis\u001b[39m=\u001b[39m\u001b[39m1\u001b[39m)\n",
      "File \u001b[1;32mc:\\Users\\duyen\\AppData\\Local\\Programs\\Python\\Python311\\Lib\\site-packages\\pandas\\core\\tools\\numeric.py:196\u001b[0m, in \u001b[0;36mto_numeric\u001b[1;34m(arg, errors, downcast, dtype_backend)\u001b[0m\n\u001b[0;32m    194\u001b[0m     values \u001b[39m=\u001b[39m np\u001b[39m.\u001b[39marray([arg], dtype\u001b[39m=\u001b[39m\u001b[39m\"\u001b[39m\u001b[39mO\u001b[39m\u001b[39m\"\u001b[39m)\n\u001b[0;32m    195\u001b[0m \u001b[39melif\u001b[39;00m \u001b[39mgetattr\u001b[39m(arg, \u001b[39m\"\u001b[39m\u001b[39mndim\u001b[39m\u001b[39m\"\u001b[39m, \u001b[39m1\u001b[39m) \u001b[39m>\u001b[39m \u001b[39m1\u001b[39m:\n\u001b[1;32m--> 196\u001b[0m     \u001b[39mraise\u001b[39;00m \u001b[39mTypeError\u001b[39;00m(\u001b[39m\"\u001b[39m\u001b[39marg must be a list, tuple, 1-d array, or Series\u001b[39m\u001b[39m\"\u001b[39m)\n\u001b[0;32m    197\u001b[0m \u001b[39melse\u001b[39;00m:\n\u001b[0;32m    198\u001b[0m     values \u001b[39m=\u001b[39m arg\n",
      "\u001b[1;31mTypeError\u001b[0m: arg must be a list, tuple, 1-d array, or Series"
     ]
    }
   ],
   "source": [
    "import os\n",
    "import pandas as pd\n",
    "\n",
    "def phan_loai_aqi(aqi):\n",
    "    if 0 <= aqi <= 50:\n",
    "        return 'Tốt'\n",
    "    elif 51 <= aqi <= 100:\n",
    "        return 'Vừa Phải'\n",
    "    elif 101 <= aqi <= 150:\n",
    "        return 'Không tốt cho người nhạy cảm'\n",
    "    elif 151 <= aqi <= 200:\n",
    "        return 'Không tốt'\n",
    "    elif 201 <= aqi <= 300:\n",
    "        return 'Rất không tốt'\n",
    "    else:\n",
    "        return 'Nguy hiểm'\n",
    "\n",
    "# Thư mục chứa tệp dữ liệu\n",
    "data_folder = \"../data/tramdo\"\n",
    "\n",
    "# Lấy danh sách tất cả các tệp trong thư mục\n",
    "files = os.listdir(data_folder)\n",
    "\n",
    "# Các cột bạn muốn bảo đảm xuất hiện\n",
    "required_columns = ['pm25', 'pm10', 'o3', 'no2', 'so2', 'co']\n",
    "\n",
    "for file in files:\n",
    "    # Đọc dữ liệu từ tệp CSV\n",
    "    data = pd.read_csv(os.path.join(data_folder, file))\n",
    "\n",
    "    try:\n",
    "        # Chuyển đổi cột 'date' sang định dạng datetime\n",
    "        data['date'] = pd.to_datetime(data['date'], format='%d/%m/%Y')\n",
    "    except ValueError:\n",
    "        # Nếu có lỗi, thử chuyển đổi theo định dạng khác\n",
    "        data['date'] = pd.to_datetime(data['date'], format='%m/%d/%Y')\n",
    "        data['date'] = data['date'].dt.strftime('%d/%m/%Y')\n",
    "\n",
    "    # Sắp xếp dữ liệu theo ngày tháng\n",
    "    data = data.sort_values(by='date', ascending=True)\n",
    "\n",
    "    # Reset lại index\n",
    "    data = data.reset_index(drop=True)\n",
    "\n",
    "    # Sửa tên cột\n",
    "    data = data.rename(columns=lambda x: x.strip())\n",
    "\n",
    "    # Thêm cột mới nếu chưa xuất hiện\n",
    "    for column in required_columns:\n",
    "        if column not in data.columns:\n",
    "            data[column] = 0\n",
    "\n",
    "    # Chuyển đổi cột sang kiểu số và xử lý giá trị không hợp lệ\n",
    "    data[required_columns] = pd.to_numeric(data[required_columns].apply(lambda x: x.str.strip()), errors='coerce').fillna(0).astype('double')\n",
    "\n",
    "    # Thêm cột 'aqi' bằng cách lấy giá trị lớn nhất\n",
    "    data['aqi'] = data[required_columns].max(axis=1)\n",
    "    \n",
    "    # Áp dụng hàm phân loại AQI cho cột 'aqi'\n",
    "    data['mức độ ô nhiễm'] = data['aqi'].apply(phan_loai_aqi)\n",
    "    \n",
    "    # Thêm cột 'địa điểm trạm đo' từ tên tệp\n",
    "    data.insert(0, \"địa điểm trạm đo\", file.split(\"-\")[0].strip())\n",
    "\n",
    "    # Lưu DataFrame đã cập nhật vào tệp CSV mới\n",
    "    data.to_csv(os.path.join(data_folder, file), index=False)\n"
   ]
  },
  {
   "cell_type": "code",
   "execution_count": 9,
   "metadata": {},
   "outputs": [],
   "source": [
    "from datetime import datetime\n",
    "import pandas as pd\n",
    "# Danh sách các ngày dạng mm/dd/yyyy\n",
    "# ngay_thang_strings = [\n",
    "#     \"11/09/2023\",\n",
    "#     \"11/10/2023\",\n",
    "#     \"11/11/2023\",\n",
    "#     \"11/12/2023\",\n",
    "#     \"11/13/2023\",\n",
    "#     \"11/14/2023\",\n",
    "#     \"11/15/2023\",\n",
    "#     \"11/16/2023\",\n",
    "#     \"11/17/2023\",\n",
    "#     \"11/18/2023\",\n",
    "#     \"11/19/2023\",\n",
    "#     \"11/20/2023\",\n",
    "# ]\n",
    "\n",
    "df = pd.read_csv(\"D:/study/Data_visualize/CK/air_quality/data/tramdo/Uông Bí - Quảng Ninh.csv\")\n",
    "\n",
    "\n",
    "ngay_thang_objects = [datetime.strptime(date, \"%m/%d/%Y\") for date in df['date']]\n",
    "\n",
    "# Chuyển đổi sang định dạng mới \"dd/mm/yyyy\"\n",
    "df[\"date\"] = [date.strftime(\"%d/%m/%Y\") for date in ngay_thang_objects]\n",
    "df.to_csv(\"D:/study/Data_visualize/CK/air_quality/data/tramdo/Uông Bí - Quảng Ninh.csv\",index=False )\n"
   ]
  },
  {
   "cell_type": "code",
   "execution_count": null,
   "metadata": {},
   "outputs": [],
   "source": []
  }
 ],
 "metadata": {
  "kernelspec": {
   "display_name": "Python 3",
   "language": "python",
   "name": "python3"
  },
  "language_info": {
   "codemirror_mode": {
    "name": "ipython",
    "version": 3
   },
   "file_extension": ".py",
   "mimetype": "text/x-python",
   "name": "python",
   "nbconvert_exporter": "python",
   "pygments_lexer": "ipython3",
   "version": "3.11.5"
  }
 },
 "nbformat": 4,
 "nbformat_minor": 2
}
