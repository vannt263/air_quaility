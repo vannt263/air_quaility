{
 "cells": [
  {
   "cell_type": "code",
   "execution_count": 216,
   "metadata": {},
   "outputs": [],
   "source": [
    "import pandas as pd\n",
    "import numpy as np\n",
    "import os"
   ]
  },
  {
   "cell_type": "code",
   "execution_count": 217,
   "metadata": {},
   "outputs": [],
   "source": [
    "files = os.listdir(\"../data\")"
   ]
  },
  {
   "cell_type": "code",
   "execution_count": 218,
   "metadata": {},
   "outputs": [],
   "source": [
    "required_columns = ['pm25', 'pm10', 'o3', 'no2', 'so2', 'co', 'aqi']"
   ]
  },
  {
   "cell_type": "code",
   "execution_count": 219,
   "metadata": {},
   "outputs": [
    {
     "name": "stderr",
     "output_type": "stream",
     "text": [
      "C:\\Users\\vannt\\AppData\\Local\\Temp\\ipykernel_20280\\3631063046.py:5: UserWarning: Parsing dates in %d/%m/%Y format when dayfirst=False (the default) was specified. Pass `dayfirst=True` or specify a format to silence this warning.\n",
      "  data['date'] = pd.to_datetime(data['date'])\n"
     ]
    }
   ],
   "source": [
    "for file in files:\n",
    "    data = pd.read_csv(f\"../data/{file}\")\n",
    "\n",
    "    # đọc dữ liệu và reset lại index\n",
    "    data['date'] = pd.to_datetime(data['date'])\n",
    "    data = data.sort_values(by='date', ascending=True)\n",
    "    data = data.reset_index(drop=True)\n",
    "    \n",
    "    data = data.rename(columns=lambda x: x.strip()) # sửa tên cột\n",
    "\n",
    "    data[data.columns[1:]] = data[data.columns[1:]].replace(' ', 0) #ép kiểu cột sang int\n",
    "    data[data.columns[1:]] = data[data.columns[1:]].astype(int)\n",
    "\n",
    "    for column in required_columns:\n",
    "        if column not in data.columns:\n",
    "            data[column] = 0 # Thêm cột mới với giá trị None hoặc 0 (tùy ý)\n",
    "\n",
    "    # Đảm bảo thứ tự các cột là 'pm25', 'pm10', 'o3', 'no2', 'so2', 'co', 'aqi'\n",
    "    data = data[['date', 'pm25', 'pm10', 'o3', 'no2', 'so2', 'co', 'aqi']]\n",
    "\n",
    "    # Kiểm tra và gán lại giá trị của 'aqi'\n",
    "    data['aqi'] = data[data.columns[1:]].max(axis=1)\n",
    "    data.insert(0, \"địa điểm trạm đo\", file.split(\"-\")[0].strip())\n",
    "    data.to_csv(f\"../data/{file}\")"
   ]
  },
  {
   "cell_type": "code",
   "execution_count": null,
   "metadata": {},
   "outputs": [],
   "source": [
    "for file in files:\n",
    "    df = pd.read_csv(f\"../data/{file}\")\n",
    "    df = df.drop(['Unnamed: 0.1', 'Unnamed: 0'], axis=1)\n",
    "    condition = (df[['pm25', 'pm10', 'o3', 'no2', 'so2', 'co']].sum(axis=1) == 0) & (df['aqi'] != 0)\n",
    "    df.loc[condition, 'pm25'] = df['aqi']\n",
    "    df.to_csv(f\"../data/{file}\")"
   ]
  }
 ],
 "metadata": {
  "kernelspec": {
   "display_name": "Python 3",
   "language": "python",
   "name": "python3"
  },
  "language_info": {
   "codemirror_mode": {
    "name": "ipython",
    "version": 3
   },
   "file_extension": ".py",
   "mimetype": "text/x-python",
   "name": "python",
   "nbconvert_exporter": "python",
   "pygments_lexer": "ipython3",
   "version": "3.11.5"
  }
 },
 "nbformat": 4,
 "nbformat_minor": 2
}
